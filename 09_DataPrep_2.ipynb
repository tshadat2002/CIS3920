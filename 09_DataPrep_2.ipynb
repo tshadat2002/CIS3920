{
 "cells": [
  {
   "cell_type": "markdown",
   "id": "5849aea0",
   "metadata": {},
   "source": [
    "# Data Preparation 2"
   ]
  },
  {
   "cell_type": "markdown",
   "id": "6486bf5c",
   "metadata": {},
   "source": [
    "### Import libraries"
   ]
  },
  {
   "cell_type": "code",
   "execution_count": 1,
   "id": "70c7976e",
   "metadata": {
    "scrolled": true
   },
   "outputs": [],
   "source": [
    "import pandas as pd\n",
    "import numpy as np\n",
    "from sklearn.impute import SimpleImputer\n",
    "from sklearn.preprocessing import StandardScaler\n",
    "from sklearn.preprocessing import Normalizer"
   ]
  },
  {
   "cell_type": "markdown",
   "id": "ba9167a8",
   "metadata": {},
   "source": [
    "### Set up data directory"
   ]
  },
  {
   "cell_type": "code",
   "execution_count": 2,
   "id": "acffdb14",
   "metadata": {
    "scrolled": true
   },
   "outputs": [
    {
     "name": "stdout",
     "output_type": "stream",
     "text": [
      "/Users/vj/data/Projects/BaruchCollege/DataMiningForBusinessAnalytics\r\n"
     ]
    }
   ],
   "source": [
    "! pwd"
   ]
  },
  {
   "cell_type": "code",
   "execution_count": 3,
   "id": "6245b108",
   "metadata": {
    "scrolled": true
   },
   "outputs": [
    {
     "name": "stdout",
     "output_type": "stream",
     "text": [
      "drwxr-xr-x  32 vj  staff     1024 Jan 18 07:52 data\r\n",
      "drwxr-xr-x  24 vj  staff      768 Dec 29 09:23 data_old\r\n",
      "drwxr-xr-x  19 vj  staff      608 Dec 12 10:17 images\r\n",
      "drwxr-xr-x   4 vj  staff      128 Sep 23 15:33 models\r\n",
      "drwxr-xr-x  27 vj  staff      864 Dec 26 16:51 old_notebooks\r\n",
      "drwxr-xr-x   9 vj  staff      288 Oct  4 20:30 reference_images\r\n",
      "drwxr-xr-x  17 vj  staff      544 Nov 10 13:56 reference_notebooks\r\n",
      "drwxr-xr-x   7 vj  staff      224 Feb 22 21:09 slides\r\n"
     ]
    }
   ],
   "source": [
    "! ls -l | grep ^d"
   ]
  },
  {
   "cell_type": "code",
   "execution_count": 4,
   "id": "2e30adc0",
   "metadata": {
    "scrolled": true
   },
   "outputs": [],
   "source": [
    "# mkdir data     # Only if it is not listed above"
   ]
  },
  {
   "cell_type": "markdown",
   "id": "60ff24db",
   "metadata": {},
   "source": [
    "### To get original data file from Kaggle\n",
    "* Go to https://www.kaggle.com/uciml/electric-power-consumption-data-set/metadata and click Download button\n",
    "* Move downloaded file to data directory"
   ]
  },
  {
   "cell_type": "markdown",
   "id": "3ad52f48",
   "metadata": {},
   "source": [
    "### Note: A smaller version of the original file is in the data directory: household_power_consumption.txt"
   ]
  },
  {
   "cell_type": "markdown",
   "id": "d27f9e7e",
   "metadata": {},
   "source": [
    "### Prepare smaller dataset"
   ]
  },
  {
   "cell_type": "code",
   "execution_count": 5,
   "id": "f80b6133",
   "metadata": {
    "scrolled": true
   },
   "outputs": [
    {
     "name": "stdout",
     "output_type": "stream",
     "text": [
      "  328697 data/household_power_consumption.txt\r\n"
     ]
    }
   ],
   "source": [
    "# Check how many data lines are in data file\n",
    "! wc -l data/household_power_consumption.txt"
   ]
  },
  {
   "cell_type": "code",
   "execution_count": 6,
   "id": "e3d52e2c",
   "metadata": {
    "scrolled": false
   },
   "outputs": [
    {
     "name": "stdout",
     "output_type": "stream",
     "text": [
      "Date;Time;Global_active_power;Global_reactive_power;Voltage;Global_intensity;Sub_metering_1;Sub_metering_2;Sub_metering_3\r",
      "\r\n",
      "16/12/2006;17:24:00;4.216;0.418;234.840;18.400;0.000;1.000;17.000\r",
      "\r\n",
      "16/12/2006;17:25:00;5.360;0.436;233.630;23.000;0.000;1.000;16.000\r",
      "\r\n",
      "16/12/2006;17:26:00;5.374;0.498;233.290;23.000;0.000;2.000;17.000\r",
      "\r\n",
      "16/12/2006;17:27:00;5.388;0.502;233.740;23.000;0.000;1.000;17.000\r",
      "\r\n"
     ]
    }
   ],
   "source": [
    "# Review first 5 data lines\n",
    "! head -5 data/household_power_consumption.txt"
   ]
  },
  {
   "cell_type": "code",
   "execution_count": 7,
   "id": "dcc941c5",
   "metadata": {},
   "outputs": [
    {
     "name": "stdout",
     "output_type": "stream",
     "text": [
      "1/8/2007;23:35:00;0.248;0.198;236.760;1.200;0.000;0.000;0.000\r",
      "\r\n",
      "1/8/2007;23:36:00;0.198;0.128;236.980;1.000;0.000;0.000;0.000\r",
      "\r\n",
      "1/8/2007;23:37:00;0.198;0.128;236.960;1.000;0.000;0.000;0.000\r",
      "\r\n",
      "1/8/2007;23:38:00;0.198;0.126;236.810;1.000;0.000;0.000;0.000\r",
      "\r\n",
      "1/8/2007;23:39:00;0.198;0.126;236.660;1.000;0.000;0.000;0.000\r",
      "\r\n"
     ]
    }
   ],
   "source": [
    "# Review last 5 data lines\n",
    "! tail -5 data/household_power_consumption.txt"
   ]
  },
  {
   "cell_type": "code",
   "execution_count": 8,
   "id": "eb6fa3d4",
   "metadata": {
    "scrolled": false
   },
   "outputs": [
    {
     "data": {
      "text/plain": [
       "(328696, 9)"
      ]
     },
     "execution_count": 8,
     "metadata": {},
     "output_type": "execute_result"
    }
   ],
   "source": [
    "# Load downloaded data file into data frame\n",
    "df = pd.read_csv('data/household_power_consumption.txt', sep=';', low_memory=False)\n",
    "df.shape"
   ]
  },
  {
   "cell_type": "code",
   "execution_count": 9,
   "id": "97b8e28e",
   "metadata": {
    "scrolled": true
   },
   "outputs": [
    {
     "data": {
      "text/plain": [
       "(10000, 9)"
      ]
     },
     "execution_count": 9,
     "metadata": {},
     "output_type": "execute_result"
    }
   ],
   "source": [
    "# From large dataset generate a smaller dataset (a random sample of 10,000 records)\n",
    "df2 = df.sample(n = 10000, random_state = 42)\n",
    "df2.shape"
   ]
  },
  {
   "cell_type": "code",
   "execution_count": 10,
   "id": "54f7a42c",
   "metadata": {
    "scrolled": true
   },
   "outputs": [
    {
     "data": {
      "text/html": [
       "<div>\n",
       "<style scoped>\n",
       "    .dataframe tbody tr th:only-of-type {\n",
       "        vertical-align: middle;\n",
       "    }\n",
       "\n",
       "    .dataframe tbody tr th {\n",
       "        vertical-align: top;\n",
       "    }\n",
       "\n",
       "    .dataframe thead th {\n",
       "        text-align: right;\n",
       "    }\n",
       "</style>\n",
       "<table border=\"1\" class=\"dataframe\">\n",
       "  <thead>\n",
       "    <tr style=\"text-align: right;\">\n",
       "      <th></th>\n",
       "      <th>Date</th>\n",
       "      <th>Time</th>\n",
       "      <th>Global_active_power</th>\n",
       "      <th>Global_reactive_power</th>\n",
       "      <th>Voltage</th>\n",
       "      <th>Global_intensity</th>\n",
       "      <th>Sub_metering_1</th>\n",
       "      <th>Sub_metering_2</th>\n",
       "      <th>Sub_metering_3</th>\n",
       "    </tr>\n",
       "  </thead>\n",
       "  <tbody>\n",
       "    <tr>\n",
       "      <th>12913</th>\n",
       "      <td>25/12/2006</td>\n",
       "      <td>16:37:00</td>\n",
       "      <td>4.410</td>\n",
       "      <td>0.368</td>\n",
       "      <td>239.310</td>\n",
       "      <td>18.400</td>\n",
       "      <td>40.000</td>\n",
       "      <td>0.000</td>\n",
       "      <td>0.0</td>\n",
       "    </tr>\n",
       "    <tr>\n",
       "      <th>143703</th>\n",
       "      <td>26/3/2007</td>\n",
       "      <td>12:27:00</td>\n",
       "      <td>0.482</td>\n",
       "      <td>0.110</td>\n",
       "      <td>239.910</td>\n",
       "      <td>2.200</td>\n",
       "      <td>0.000</td>\n",
       "      <td>1.000</td>\n",
       "      <td>0.0</td>\n",
       "    </tr>\n",
       "    <tr>\n",
       "      <th>259284</th>\n",
       "      <td>14/6/2007</td>\n",
       "      <td>18:48:00</td>\n",
       "      <td>1.548</td>\n",
       "      <td>0.266</td>\n",
       "      <td>239.850</td>\n",
       "      <td>6.400</td>\n",
       "      <td>1.000</td>\n",
       "      <td>1.000</td>\n",
       "      <td>17.0</td>\n",
       "    </tr>\n",
       "    <tr>\n",
       "      <th>327569</th>\n",
       "      <td>1/8/2007</td>\n",
       "      <td>04:53:00</td>\n",
       "      <td>1.528</td>\n",
       "      <td>0.078</td>\n",
       "      <td>235.080</td>\n",
       "      <td>6.400</td>\n",
       "      <td>0.000</td>\n",
       "      <td>0.000</td>\n",
       "      <td>17.0</td>\n",
       "    </tr>\n",
       "    <tr>\n",
       "      <th>17476</th>\n",
       "      <td>28/12/2006</td>\n",
       "      <td>20:40:00</td>\n",
       "      <td>1.426</td>\n",
       "      <td>0.000</td>\n",
       "      <td>241.420</td>\n",
       "      <td>5.800</td>\n",
       "      <td>0.000</td>\n",
       "      <td>0.000</td>\n",
       "      <td>0.0</td>\n",
       "    </tr>\n",
       "    <tr>\n",
       "      <th>257409</th>\n",
       "      <td>13/6/2007</td>\n",
       "      <td>11:33:00</td>\n",
       "      <td>0.262</td>\n",
       "      <td>0.122</td>\n",
       "      <td>242.720</td>\n",
       "      <td>1.200</td>\n",
       "      <td>0.000</td>\n",
       "      <td>3.000</td>\n",
       "      <td>0.0</td>\n",
       "    </tr>\n",
       "    <tr>\n",
       "      <th>317574</th>\n",
       "      <td>25/7/2007</td>\n",
       "      <td>06:18:00</td>\n",
       "      <td>0.126</td>\n",
       "      <td>0.000</td>\n",
       "      <td>236.210</td>\n",
       "      <td>0.600</td>\n",
       "      <td>0.000</td>\n",
       "      <td>0.000</td>\n",
       "      <td>0.0</td>\n",
       "    </tr>\n",
       "    <tr>\n",
       "      <th>192853</th>\n",
       "      <td>29/4/2007</td>\n",
       "      <td>15:37:00</td>\n",
       "      <td>?</td>\n",
       "      <td>?</td>\n",
       "      <td>?</td>\n",
       "      <td>?</td>\n",
       "      <td>?</td>\n",
       "      <td>?</td>\n",
       "      <td>NaN</td>\n",
       "    </tr>\n",
       "    <tr>\n",
       "      <th>252340</th>\n",
       "      <td>9/6/2007</td>\n",
       "      <td>23:04:00</td>\n",
       "      <td>1.274</td>\n",
       "      <td>0.088</td>\n",
       "      <td>241.450</td>\n",
       "      <td>5.200</td>\n",
       "      <td>0.000</td>\n",
       "      <td>0.000</td>\n",
       "      <td>0.0</td>\n",
       "    </tr>\n",
       "    <tr>\n",
       "      <th>175812</th>\n",
       "      <td>17/4/2007</td>\n",
       "      <td>19:36:00</td>\n",
       "      <td>1.062</td>\n",
       "      <td>0.382</td>\n",
       "      <td>239.950</td>\n",
       "      <td>4.600</td>\n",
       "      <td>0.000</td>\n",
       "      <td>0.000</td>\n",
       "      <td>0.0</td>\n",
       "    </tr>\n",
       "  </tbody>\n",
       "</table>\n",
       "</div>"
      ],
      "text/plain": [
       "              Date      Time Global_active_power Global_reactive_power  \\\n",
       "12913   25/12/2006  16:37:00               4.410                 0.368   \n",
       "143703   26/3/2007  12:27:00               0.482                 0.110   \n",
       "259284   14/6/2007  18:48:00               1.548                 0.266   \n",
       "327569    1/8/2007  04:53:00               1.528                 0.078   \n",
       "17476   28/12/2006  20:40:00               1.426                 0.000   \n",
       "257409   13/6/2007  11:33:00               0.262                 0.122   \n",
       "317574   25/7/2007  06:18:00               0.126                 0.000   \n",
       "192853   29/4/2007  15:37:00                   ?                     ?   \n",
       "252340    9/6/2007  23:04:00               1.274                 0.088   \n",
       "175812   17/4/2007  19:36:00               1.062                 0.382   \n",
       "\n",
       "        Voltage Global_intensity Sub_metering_1 Sub_metering_2  Sub_metering_3  \n",
       "12913   239.310           18.400         40.000          0.000             0.0  \n",
       "143703  239.910            2.200          0.000          1.000             0.0  \n",
       "259284  239.850            6.400          1.000          1.000            17.0  \n",
       "327569  235.080            6.400          0.000          0.000            17.0  \n",
       "17476   241.420            5.800          0.000          0.000             0.0  \n",
       "257409  242.720            1.200          0.000          3.000             0.0  \n",
       "317574  236.210            0.600          0.000          0.000             0.0  \n",
       "192853        ?                ?              ?              ?             NaN  \n",
       "252340  241.450            5.200          0.000          0.000             0.0  \n",
       "175812  239.950            4.600          0.000          0.000             0.0  "
      ]
     },
     "execution_count": 10,
     "metadata": {},
     "output_type": "execute_result"
    }
   ],
   "source": [
    "# Review first 10 records in data frame\n",
    "df2.head(10)"
   ]
  },
  {
   "cell_type": "code",
   "execution_count": 11,
   "id": "7a8db726",
   "metadata": {
    "scrolled": true
   },
   "outputs": [],
   "source": [
    "# Save smaller dataset to CSV file\n",
    "df2.to_csv('data/hpc.csv')"
   ]
  },
  {
   "cell_type": "code",
   "execution_count": 12,
   "id": "01985f13",
   "metadata": {
    "scrolled": true
   },
   "outputs": [
    {
     "data": {
      "text/html": [
       "<div>\n",
       "<style scoped>\n",
       "    .dataframe tbody tr th:only-of-type {\n",
       "        vertical-align: middle;\n",
       "    }\n",
       "\n",
       "    .dataframe tbody tr th {\n",
       "        vertical-align: top;\n",
       "    }\n",
       "\n",
       "    .dataframe thead th {\n",
       "        text-align: right;\n",
       "    }\n",
       "</style>\n",
       "<table border=\"1\" class=\"dataframe\">\n",
       "  <thead>\n",
       "    <tr style=\"text-align: right;\">\n",
       "      <th></th>\n",
       "      <th>Unnamed: 0</th>\n",
       "      <th>Date</th>\n",
       "      <th>Time</th>\n",
       "      <th>Global_active_power</th>\n",
       "      <th>Global_reactive_power</th>\n",
       "      <th>Voltage</th>\n",
       "      <th>Global_intensity</th>\n",
       "      <th>Sub_metering_1</th>\n",
       "      <th>Sub_metering_2</th>\n",
       "      <th>Sub_metering_3</th>\n",
       "    </tr>\n",
       "  </thead>\n",
       "  <tbody>\n",
       "    <tr>\n",
       "      <th>0</th>\n",
       "      <td>12913</td>\n",
       "      <td>25/12/2006</td>\n",
       "      <td>16:37:00</td>\n",
       "      <td>4.410</td>\n",
       "      <td>0.368</td>\n",
       "      <td>239.310</td>\n",
       "      <td>18.400</td>\n",
       "      <td>40.000</td>\n",
       "      <td>0.000</td>\n",
       "      <td>0.0</td>\n",
       "    </tr>\n",
       "    <tr>\n",
       "      <th>1</th>\n",
       "      <td>143703</td>\n",
       "      <td>26/3/2007</td>\n",
       "      <td>12:27:00</td>\n",
       "      <td>0.482</td>\n",
       "      <td>0.110</td>\n",
       "      <td>239.910</td>\n",
       "      <td>2.200</td>\n",
       "      <td>0.000</td>\n",
       "      <td>1.000</td>\n",
       "      <td>0.0</td>\n",
       "    </tr>\n",
       "    <tr>\n",
       "      <th>2</th>\n",
       "      <td>259284</td>\n",
       "      <td>14/6/2007</td>\n",
       "      <td>18:48:00</td>\n",
       "      <td>1.548</td>\n",
       "      <td>0.266</td>\n",
       "      <td>239.850</td>\n",
       "      <td>6.400</td>\n",
       "      <td>1.000</td>\n",
       "      <td>1.000</td>\n",
       "      <td>17.0</td>\n",
       "    </tr>\n",
       "    <tr>\n",
       "      <th>3</th>\n",
       "      <td>327569</td>\n",
       "      <td>1/8/2007</td>\n",
       "      <td>04:53:00</td>\n",
       "      <td>1.528</td>\n",
       "      <td>0.078</td>\n",
       "      <td>235.080</td>\n",
       "      <td>6.400</td>\n",
       "      <td>0.000</td>\n",
       "      <td>0.000</td>\n",
       "      <td>17.0</td>\n",
       "    </tr>\n",
       "    <tr>\n",
       "      <th>4</th>\n",
       "      <td>17476</td>\n",
       "      <td>28/12/2006</td>\n",
       "      <td>20:40:00</td>\n",
       "      <td>1.426</td>\n",
       "      <td>0.000</td>\n",
       "      <td>241.420</td>\n",
       "      <td>5.800</td>\n",
       "      <td>0.000</td>\n",
       "      <td>0.000</td>\n",
       "      <td>0.0</td>\n",
       "    </tr>\n",
       "    <tr>\n",
       "      <th>5</th>\n",
       "      <td>257409</td>\n",
       "      <td>13/6/2007</td>\n",
       "      <td>11:33:00</td>\n",
       "      <td>0.262</td>\n",
       "      <td>0.122</td>\n",
       "      <td>242.720</td>\n",
       "      <td>1.200</td>\n",
       "      <td>0.000</td>\n",
       "      <td>3.000</td>\n",
       "      <td>0.0</td>\n",
       "    </tr>\n",
       "    <tr>\n",
       "      <th>6</th>\n",
       "      <td>317574</td>\n",
       "      <td>25/7/2007</td>\n",
       "      <td>06:18:00</td>\n",
       "      <td>0.126</td>\n",
       "      <td>0.000</td>\n",
       "      <td>236.210</td>\n",
       "      <td>0.600</td>\n",
       "      <td>0.000</td>\n",
       "      <td>0.000</td>\n",
       "      <td>0.0</td>\n",
       "    </tr>\n",
       "    <tr>\n",
       "      <th>7</th>\n",
       "      <td>192853</td>\n",
       "      <td>29/4/2007</td>\n",
       "      <td>15:37:00</td>\n",
       "      <td>?</td>\n",
       "      <td>?</td>\n",
       "      <td>?</td>\n",
       "      <td>?</td>\n",
       "      <td>?</td>\n",
       "      <td>?</td>\n",
       "      <td>NaN</td>\n",
       "    </tr>\n",
       "    <tr>\n",
       "      <th>8</th>\n",
       "      <td>252340</td>\n",
       "      <td>9/6/2007</td>\n",
       "      <td>23:04:00</td>\n",
       "      <td>1.274</td>\n",
       "      <td>0.088</td>\n",
       "      <td>241.450</td>\n",
       "      <td>5.200</td>\n",
       "      <td>0.000</td>\n",
       "      <td>0.000</td>\n",
       "      <td>0.0</td>\n",
       "    </tr>\n",
       "    <tr>\n",
       "      <th>9</th>\n",
       "      <td>175812</td>\n",
       "      <td>17/4/2007</td>\n",
       "      <td>19:36:00</td>\n",
       "      <td>1.062</td>\n",
       "      <td>0.382</td>\n",
       "      <td>239.950</td>\n",
       "      <td>4.600</td>\n",
       "      <td>0.000</td>\n",
       "      <td>0.000</td>\n",
       "      <td>0.0</td>\n",
       "    </tr>\n",
       "  </tbody>\n",
       "</table>\n",
       "</div>"
      ],
      "text/plain": [
       "   Unnamed: 0        Date      Time Global_active_power Global_reactive_power  \\\n",
       "0       12913  25/12/2006  16:37:00               4.410                 0.368   \n",
       "1      143703   26/3/2007  12:27:00               0.482                 0.110   \n",
       "2      259284   14/6/2007  18:48:00               1.548                 0.266   \n",
       "3      327569    1/8/2007  04:53:00               1.528                 0.078   \n",
       "4       17476  28/12/2006  20:40:00               1.426                 0.000   \n",
       "5      257409   13/6/2007  11:33:00               0.262                 0.122   \n",
       "6      317574   25/7/2007  06:18:00               0.126                 0.000   \n",
       "7      192853   29/4/2007  15:37:00                   ?                     ?   \n",
       "8      252340    9/6/2007  23:04:00               1.274                 0.088   \n",
       "9      175812   17/4/2007  19:36:00               1.062                 0.382   \n",
       "\n",
       "   Voltage Global_intensity Sub_metering_1 Sub_metering_2  Sub_metering_3  \n",
       "0  239.310           18.400         40.000          0.000             0.0  \n",
       "1  239.910            2.200          0.000          1.000             0.0  \n",
       "2  239.850            6.400          1.000          1.000            17.0  \n",
       "3  235.080            6.400          0.000          0.000            17.0  \n",
       "4  241.420            5.800          0.000          0.000             0.0  \n",
       "5  242.720            1.200          0.000          3.000             0.0  \n",
       "6  236.210            0.600          0.000          0.000             0.0  \n",
       "7        ?                ?              ?              ?             NaN  \n",
       "8  241.450            5.200          0.000          0.000             0.0  \n",
       "9  239.950            4.600          0.000          0.000             0.0  "
      ]
     },
     "execution_count": 12,
     "metadata": {},
     "output_type": "execute_result"
    }
   ],
   "source": [
    "# Load the newly created CSV file and review the smaller dataset\n",
    "df3 = pd.read_csv('data/hpc.csv')\n",
    "df3.head(10)"
   ]
  },
  {
   "cell_type": "markdown",
   "id": "c4379b3d",
   "metadata": {},
   "source": [
    "### Data imputation"
   ]
  },
  {
   "cell_type": "code",
   "execution_count": 13,
   "id": "0b803f04",
   "metadata": {
    "scrolled": true
   },
   "outputs": [
    {
     "data": {
      "text/plain": [
       "Unnamed: 0                 0\n",
       "Date                       0\n",
       "Time                       0\n",
       "Global_active_power        0\n",
       "Global_reactive_power      0\n",
       "Voltage                    0\n",
       "Global_intensity           0\n",
       "Sub_metering_1             0\n",
       "Sub_metering_2             0\n",
       "Sub_metering_3           135\n",
       "dtype: int64"
      ]
     },
     "execution_count": 13,
     "metadata": {},
     "output_type": "execute_result"
    }
   ],
   "source": [
    "# Check for null values\n",
    "df3.isnull().sum()"
   ]
  },
  {
   "cell_type": "code",
   "execution_count": 14,
   "id": "7f0917d0",
   "metadata": {},
   "outputs": [
    {
     "data": {
      "text/html": [
       "<div>\n",
       "<style scoped>\n",
       "    .dataframe tbody tr th:only-of-type {\n",
       "        vertical-align: middle;\n",
       "    }\n",
       "\n",
       "    .dataframe tbody tr th {\n",
       "        vertical-align: top;\n",
       "    }\n",
       "\n",
       "    .dataframe thead th {\n",
       "        text-align: right;\n",
       "    }\n",
       "</style>\n",
       "<table border=\"1\" class=\"dataframe\">\n",
       "  <thead>\n",
       "    <tr style=\"text-align: right;\">\n",
       "      <th></th>\n",
       "      <th>Unnamed: 0</th>\n",
       "      <th>Date</th>\n",
       "      <th>Time</th>\n",
       "      <th>Global_active_power</th>\n",
       "      <th>Global_reactive_power</th>\n",
       "      <th>Voltage</th>\n",
       "      <th>Global_intensity</th>\n",
       "      <th>Sub_metering_1</th>\n",
       "      <th>Sub_metering_2</th>\n",
       "      <th>Sub_metering_3</th>\n",
       "    </tr>\n",
       "  </thead>\n",
       "  <tbody>\n",
       "    <tr>\n",
       "      <th>7</th>\n",
       "      <td>192853</td>\n",
       "      <td>29/4/2007</td>\n",
       "      <td>15:37:00</td>\n",
       "      <td>?</td>\n",
       "      <td>?</td>\n",
       "      <td>?</td>\n",
       "      <td>?</td>\n",
       "      <td>?</td>\n",
       "      <td>?</td>\n",
       "      <td>NaN</td>\n",
       "    </tr>\n",
       "    <tr>\n",
       "      <th>62</th>\n",
       "      <td>190784</td>\n",
       "      <td>28/4/2007</td>\n",
       "      <td>05:08:00</td>\n",
       "      <td>?</td>\n",
       "      <td>?</td>\n",
       "      <td>?</td>\n",
       "      <td>?</td>\n",
       "      <td>?</td>\n",
       "      <td>?</td>\n",
       "      <td>NaN</td>\n",
       "    </tr>\n",
       "    <tr>\n",
       "      <th>191</th>\n",
       "      <td>190782</td>\n",
       "      <td>28/4/2007</td>\n",
       "      <td>05:06:00</td>\n",
       "      <td>?</td>\n",
       "      <td>?</td>\n",
       "      <td>?</td>\n",
       "      <td>?</td>\n",
       "      <td>?</td>\n",
       "      <td>?</td>\n",
       "      <td>NaN</td>\n",
       "    </tr>\n",
       "    <tr>\n",
       "      <th>258</th>\n",
       "      <td>191317</td>\n",
       "      <td>28/4/2007</td>\n",
       "      <td>14:01:00</td>\n",
       "      <td>?</td>\n",
       "      <td>?</td>\n",
       "      <td>?</td>\n",
       "      <td>?</td>\n",
       "      <td>?</td>\n",
       "      <td>?</td>\n",
       "      <td>NaN</td>\n",
       "    </tr>\n",
       "    <tr>\n",
       "      <th>432</th>\n",
       "      <td>191013</td>\n",
       "      <td>28/4/2007</td>\n",
       "      <td>08:57:00</td>\n",
       "      <td>?</td>\n",
       "      <td>?</td>\n",
       "      <td>?</td>\n",
       "      <td>?</td>\n",
       "      <td>?</td>\n",
       "      <td>?</td>\n",
       "      <td>NaN</td>\n",
       "    </tr>\n",
       "    <tr>\n",
       "      <th>...</th>\n",
       "      <td>...</td>\n",
       "      <td>...</td>\n",
       "      <td>...</td>\n",
       "      <td>...</td>\n",
       "      <td>...</td>\n",
       "      <td>...</td>\n",
       "      <td>...</td>\n",
       "      <td>...</td>\n",
       "      <td>...</td>\n",
       "      <td>...</td>\n",
       "    </tr>\n",
       "    <tr>\n",
       "      <th>9686</th>\n",
       "      <td>190953</td>\n",
       "      <td>28/4/2007</td>\n",
       "      <td>07:57:00</td>\n",
       "      <td>?</td>\n",
       "      <td>?</td>\n",
       "      <td>?</td>\n",
       "      <td>?</td>\n",
       "      <td>?</td>\n",
       "      <td>?</td>\n",
       "      <td>NaN</td>\n",
       "    </tr>\n",
       "    <tr>\n",
       "      <th>9707</th>\n",
       "      <td>190787</td>\n",
       "      <td>28/4/2007</td>\n",
       "      <td>05:11:00</td>\n",
       "      <td>?</td>\n",
       "      <td>?</td>\n",
       "      <td>?</td>\n",
       "      <td>?</td>\n",
       "      <td>?</td>\n",
       "      <td>?</td>\n",
       "      <td>NaN</td>\n",
       "    </tr>\n",
       "    <tr>\n",
       "      <th>9774</th>\n",
       "      <td>191036</td>\n",
       "      <td>28/4/2007</td>\n",
       "      <td>09:20:00</td>\n",
       "      <td>?</td>\n",
       "      <td>?</td>\n",
       "      <td>?</td>\n",
       "      <td>?</td>\n",
       "      <td>?</td>\n",
       "      <td>?</td>\n",
       "      <td>NaN</td>\n",
       "    </tr>\n",
       "    <tr>\n",
       "      <th>9788</th>\n",
       "      <td>194187</td>\n",
       "      <td>30/4/2007</td>\n",
       "      <td>13:51:00</td>\n",
       "      <td>?</td>\n",
       "      <td>?</td>\n",
       "      <td>?</td>\n",
       "      <td>?</td>\n",
       "      <td>?</td>\n",
       "      <td>?</td>\n",
       "      <td>NaN</td>\n",
       "    </tr>\n",
       "    <tr>\n",
       "      <th>9845</th>\n",
       "      <td>192653</td>\n",
       "      <td>29/4/2007</td>\n",
       "      <td>12:17:00</td>\n",
       "      <td>?</td>\n",
       "      <td>?</td>\n",
       "      <td>?</td>\n",
       "      <td>?</td>\n",
       "      <td>?</td>\n",
       "      <td>?</td>\n",
       "      <td>NaN</td>\n",
       "    </tr>\n",
       "  </tbody>\n",
       "</table>\n",
       "<p>135 rows × 10 columns</p>\n",
       "</div>"
      ],
      "text/plain": [
       "      Unnamed: 0       Date      Time Global_active_power  \\\n",
       "7         192853  29/4/2007  15:37:00                   ?   \n",
       "62        190784  28/4/2007  05:08:00                   ?   \n",
       "191       190782  28/4/2007  05:06:00                   ?   \n",
       "258       191317  28/4/2007  14:01:00                   ?   \n",
       "432       191013  28/4/2007  08:57:00                   ?   \n",
       "...          ...        ...       ...                 ...   \n",
       "9686      190953  28/4/2007  07:57:00                   ?   \n",
       "9707      190787  28/4/2007  05:11:00                   ?   \n",
       "9774      191036  28/4/2007  09:20:00                   ?   \n",
       "9788      194187  30/4/2007  13:51:00                   ?   \n",
       "9845      192653  29/4/2007  12:17:00                   ?   \n",
       "\n",
       "     Global_reactive_power Voltage Global_intensity Sub_metering_1  \\\n",
       "7                        ?       ?                ?              ?   \n",
       "62                       ?       ?                ?              ?   \n",
       "191                      ?       ?                ?              ?   \n",
       "258                      ?       ?                ?              ?   \n",
       "432                      ?       ?                ?              ?   \n",
       "...                    ...     ...              ...            ...   \n",
       "9686                     ?       ?                ?              ?   \n",
       "9707                     ?       ?                ?              ?   \n",
       "9774                     ?       ?                ?              ?   \n",
       "9788                     ?       ?                ?              ?   \n",
       "9845                     ?       ?                ?              ?   \n",
       "\n",
       "     Sub_metering_2  Sub_metering_3  \n",
       "7                 ?             NaN  \n",
       "62                ?             NaN  \n",
       "191               ?             NaN  \n",
       "258               ?             NaN  \n",
       "432               ?             NaN  \n",
       "...             ...             ...  \n",
       "9686              ?             NaN  \n",
       "9707              ?             NaN  \n",
       "9774              ?             NaN  \n",
       "9788              ?             NaN  \n",
       "9845              ?             NaN  \n",
       "\n",
       "[135 rows x 10 columns]"
      ]
     },
     "execution_count": 14,
     "metadata": {},
     "output_type": "execute_result"
    }
   ],
   "source": [
    "# Identify rows with missing values\n",
    "df3[df3.isnull().any(axis=1)]"
   ]
  },
  {
   "cell_type": "markdown",
   "id": "25cb83f7",
   "metadata": {},
   "source": [
    "#### Note: Though several rows have '?' in several columns, those columns are not listed in 'isnull().sum()' output"
   ]
  },
  {
   "cell_type": "code",
   "execution_count": 15,
   "id": "99c3647a",
   "metadata": {
    "scrolled": true
   },
   "outputs": [],
   "source": [
    "# Replace '?' with NaN across all columns\n",
    "df3['Global_active_power'].replace('?', np.nan, inplace = True)\n",
    "df3['Global_reactive_power'].replace('?', np.nan, inplace = True)\n",
    "df3['Voltage'].replace('?', np.nan, inplace = True)\n",
    "df3['Global_intensity'].replace('?', np.nan, inplace = True)\n",
    "df3['Sub_metering_1'].replace('?', np.nan, inplace = True)\n",
    "df3['Sub_metering_2'].replace('?', np.nan, inplace = True)"
   ]
  },
  {
   "cell_type": "code",
   "execution_count": 16,
   "id": "9ab39de9",
   "metadata": {},
   "outputs": [
    {
     "data": {
      "text/plain": [
       "Unnamed: 0                 0\n",
       "Date                       0\n",
       "Time                       0\n",
       "Global_active_power      135\n",
       "Global_reactive_power    135\n",
       "Voltage                  135\n",
       "Global_intensity         135\n",
       "Sub_metering_1           135\n",
       "Sub_metering_2           135\n",
       "Sub_metering_3           135\n",
       "dtype: int64"
      ]
     },
     "execution_count": 16,
     "metadata": {},
     "output_type": "execute_result"
    }
   ],
   "source": [
    "# Check for null values\n",
    "df3.isnull().sum()"
   ]
  },
  {
   "cell_type": "code",
   "execution_count": 17,
   "id": "1f582bda",
   "metadata": {
    "scrolled": true
   },
   "outputs": [
    {
     "data": {
      "text/html": [
       "<div>\n",
       "<style scoped>\n",
       "    .dataframe tbody tr th:only-of-type {\n",
       "        vertical-align: middle;\n",
       "    }\n",
       "\n",
       "    .dataframe tbody tr th {\n",
       "        vertical-align: top;\n",
       "    }\n",
       "\n",
       "    .dataframe thead th {\n",
       "        text-align: right;\n",
       "    }\n",
       "</style>\n",
       "<table border=\"1\" class=\"dataframe\">\n",
       "  <thead>\n",
       "    <tr style=\"text-align: right;\">\n",
       "      <th></th>\n",
       "      <th>Unnamed: 0</th>\n",
       "      <th>Date</th>\n",
       "      <th>Time</th>\n",
       "      <th>Global_active_power</th>\n",
       "      <th>Global_reactive_power</th>\n",
       "      <th>Voltage</th>\n",
       "      <th>Global_intensity</th>\n",
       "      <th>Sub_metering_1</th>\n",
       "      <th>Sub_metering_2</th>\n",
       "      <th>Sub_metering_3</th>\n",
       "    </tr>\n",
       "  </thead>\n",
       "  <tbody>\n",
       "    <tr>\n",
       "      <th>7</th>\n",
       "      <td>192853</td>\n",
       "      <td>29/4/2007</td>\n",
       "      <td>15:37:00</td>\n",
       "      <td>NaN</td>\n",
       "      <td>NaN</td>\n",
       "      <td>NaN</td>\n",
       "      <td>NaN</td>\n",
       "      <td>NaN</td>\n",
       "      <td>NaN</td>\n",
       "      <td>NaN</td>\n",
       "    </tr>\n",
       "    <tr>\n",
       "      <th>62</th>\n",
       "      <td>190784</td>\n",
       "      <td>28/4/2007</td>\n",
       "      <td>05:08:00</td>\n",
       "      <td>NaN</td>\n",
       "      <td>NaN</td>\n",
       "      <td>NaN</td>\n",
       "      <td>NaN</td>\n",
       "      <td>NaN</td>\n",
       "      <td>NaN</td>\n",
       "      <td>NaN</td>\n",
       "    </tr>\n",
       "    <tr>\n",
       "      <th>191</th>\n",
       "      <td>190782</td>\n",
       "      <td>28/4/2007</td>\n",
       "      <td>05:06:00</td>\n",
       "      <td>NaN</td>\n",
       "      <td>NaN</td>\n",
       "      <td>NaN</td>\n",
       "      <td>NaN</td>\n",
       "      <td>NaN</td>\n",
       "      <td>NaN</td>\n",
       "      <td>NaN</td>\n",
       "    </tr>\n",
       "    <tr>\n",
       "      <th>258</th>\n",
       "      <td>191317</td>\n",
       "      <td>28/4/2007</td>\n",
       "      <td>14:01:00</td>\n",
       "      <td>NaN</td>\n",
       "      <td>NaN</td>\n",
       "      <td>NaN</td>\n",
       "      <td>NaN</td>\n",
       "      <td>NaN</td>\n",
       "      <td>NaN</td>\n",
       "      <td>NaN</td>\n",
       "    </tr>\n",
       "    <tr>\n",
       "      <th>432</th>\n",
       "      <td>191013</td>\n",
       "      <td>28/4/2007</td>\n",
       "      <td>08:57:00</td>\n",
       "      <td>NaN</td>\n",
       "      <td>NaN</td>\n",
       "      <td>NaN</td>\n",
       "      <td>NaN</td>\n",
       "      <td>NaN</td>\n",
       "      <td>NaN</td>\n",
       "      <td>NaN</td>\n",
       "    </tr>\n",
       "    <tr>\n",
       "      <th>...</th>\n",
       "      <td>...</td>\n",
       "      <td>...</td>\n",
       "      <td>...</td>\n",
       "      <td>...</td>\n",
       "      <td>...</td>\n",
       "      <td>...</td>\n",
       "      <td>...</td>\n",
       "      <td>...</td>\n",
       "      <td>...</td>\n",
       "      <td>...</td>\n",
       "    </tr>\n",
       "    <tr>\n",
       "      <th>9686</th>\n",
       "      <td>190953</td>\n",
       "      <td>28/4/2007</td>\n",
       "      <td>07:57:00</td>\n",
       "      <td>NaN</td>\n",
       "      <td>NaN</td>\n",
       "      <td>NaN</td>\n",
       "      <td>NaN</td>\n",
       "      <td>NaN</td>\n",
       "      <td>NaN</td>\n",
       "      <td>NaN</td>\n",
       "    </tr>\n",
       "    <tr>\n",
       "      <th>9707</th>\n",
       "      <td>190787</td>\n",
       "      <td>28/4/2007</td>\n",
       "      <td>05:11:00</td>\n",
       "      <td>NaN</td>\n",
       "      <td>NaN</td>\n",
       "      <td>NaN</td>\n",
       "      <td>NaN</td>\n",
       "      <td>NaN</td>\n",
       "      <td>NaN</td>\n",
       "      <td>NaN</td>\n",
       "    </tr>\n",
       "    <tr>\n",
       "      <th>9774</th>\n",
       "      <td>191036</td>\n",
       "      <td>28/4/2007</td>\n",
       "      <td>09:20:00</td>\n",
       "      <td>NaN</td>\n",
       "      <td>NaN</td>\n",
       "      <td>NaN</td>\n",
       "      <td>NaN</td>\n",
       "      <td>NaN</td>\n",
       "      <td>NaN</td>\n",
       "      <td>NaN</td>\n",
       "    </tr>\n",
       "    <tr>\n",
       "      <th>9788</th>\n",
       "      <td>194187</td>\n",
       "      <td>30/4/2007</td>\n",
       "      <td>13:51:00</td>\n",
       "      <td>NaN</td>\n",
       "      <td>NaN</td>\n",
       "      <td>NaN</td>\n",
       "      <td>NaN</td>\n",
       "      <td>NaN</td>\n",
       "      <td>NaN</td>\n",
       "      <td>NaN</td>\n",
       "    </tr>\n",
       "    <tr>\n",
       "      <th>9845</th>\n",
       "      <td>192653</td>\n",
       "      <td>29/4/2007</td>\n",
       "      <td>12:17:00</td>\n",
       "      <td>NaN</td>\n",
       "      <td>NaN</td>\n",
       "      <td>NaN</td>\n",
       "      <td>NaN</td>\n",
       "      <td>NaN</td>\n",
       "      <td>NaN</td>\n",
       "      <td>NaN</td>\n",
       "    </tr>\n",
       "  </tbody>\n",
       "</table>\n",
       "<p>135 rows × 10 columns</p>\n",
       "</div>"
      ],
      "text/plain": [
       "      Unnamed: 0       Date      Time Global_active_power  \\\n",
       "7         192853  29/4/2007  15:37:00                 NaN   \n",
       "62        190784  28/4/2007  05:08:00                 NaN   \n",
       "191       190782  28/4/2007  05:06:00                 NaN   \n",
       "258       191317  28/4/2007  14:01:00                 NaN   \n",
       "432       191013  28/4/2007  08:57:00                 NaN   \n",
       "...          ...        ...       ...                 ...   \n",
       "9686      190953  28/4/2007  07:57:00                 NaN   \n",
       "9707      190787  28/4/2007  05:11:00                 NaN   \n",
       "9774      191036  28/4/2007  09:20:00                 NaN   \n",
       "9788      194187  30/4/2007  13:51:00                 NaN   \n",
       "9845      192653  29/4/2007  12:17:00                 NaN   \n",
       "\n",
       "     Global_reactive_power Voltage Global_intensity Sub_metering_1  \\\n",
       "7                      NaN     NaN              NaN            NaN   \n",
       "62                     NaN     NaN              NaN            NaN   \n",
       "191                    NaN     NaN              NaN            NaN   \n",
       "258                    NaN     NaN              NaN            NaN   \n",
       "432                    NaN     NaN              NaN            NaN   \n",
       "...                    ...     ...              ...            ...   \n",
       "9686                   NaN     NaN              NaN            NaN   \n",
       "9707                   NaN     NaN              NaN            NaN   \n",
       "9774                   NaN     NaN              NaN            NaN   \n",
       "9788                   NaN     NaN              NaN            NaN   \n",
       "9845                   NaN     NaN              NaN            NaN   \n",
       "\n",
       "     Sub_metering_2  Sub_metering_3  \n",
       "7               NaN             NaN  \n",
       "62              NaN             NaN  \n",
       "191             NaN             NaN  \n",
       "258             NaN             NaN  \n",
       "432             NaN             NaN  \n",
       "...             ...             ...  \n",
       "9686            NaN             NaN  \n",
       "9707            NaN             NaN  \n",
       "9774            NaN             NaN  \n",
       "9788            NaN             NaN  \n",
       "9845            NaN             NaN  \n",
       "\n",
       "[135 rows x 10 columns]"
      ]
     },
     "execution_count": 17,
     "metadata": {},
     "output_type": "execute_result"
    }
   ],
   "source": [
    "# Verify cells with '?' have been replaced with NaN\n",
    "df3[df3.isnull().any(axis=1)]"
   ]
  },
  {
   "cell_type": "code",
   "execution_count": 18,
   "id": "fac51138",
   "metadata": {
    "scrolled": true
   },
   "outputs": [],
   "source": [
    "# Setup imputer to replace NaN cells with mean of column\n",
    "imp_mean = SimpleImputer(missing_values=np.nan, strategy='mean')"
   ]
  },
  {
   "cell_type": "code",
   "execution_count": 19,
   "id": "4529a69b",
   "metadata": {
    "scrolled": true
   },
   "outputs": [
    {
     "data": {
      "text/plain": [
       "SimpleImputer()"
      ]
     },
     "execution_count": 19,
     "metadata": {},
     "output_type": "execute_result"
    }
   ],
   "source": [
    "# Apply imputer\n",
    "X = df3[['Global_active_power', 'Global_reactive_power', 'Voltage', 'Global_intensity', \\\n",
    "         'Sub_metering_1', 'Sub_metering_2', 'Sub_metering_3' ]]\n",
    "imp_mean.fit(X)"
   ]
  },
  {
   "cell_type": "code",
   "execution_count": 20,
   "id": "69eeb58a",
   "metadata": {
    "scrolled": true
   },
   "outputs": [],
   "source": [
    "# Create new dataframe and transform values\n",
    "df4 = pd.DataFrame(imp_mean.transform(X), columns = ['Global_active_power', 'Global_reactive_power', \\\n",
    "                                                     'Voltage', 'Global_intensity', 'Sub_metering_1', \\\n",
    "                                                     'Sub_metering_2', 'Sub_metering_3'])"
   ]
  },
  {
   "cell_type": "code",
   "execution_count": 21,
   "id": "e1c0591a",
   "metadata": {
    "scrolled": true
   },
   "outputs": [
    {
     "data": {
      "text/html": [
       "<div>\n",
       "<style scoped>\n",
       "    .dataframe tbody tr th:only-of-type {\n",
       "        vertical-align: middle;\n",
       "    }\n",
       "\n",
       "    .dataframe tbody tr th {\n",
       "        vertical-align: top;\n",
       "    }\n",
       "\n",
       "    .dataframe thead th {\n",
       "        text-align: right;\n",
       "    }\n",
       "</style>\n",
       "<table border=\"1\" class=\"dataframe\">\n",
       "  <thead>\n",
       "    <tr style=\"text-align: right;\">\n",
       "      <th></th>\n",
       "      <th>Global_active_power</th>\n",
       "      <th>Global_reactive_power</th>\n",
       "      <th>Voltage</th>\n",
       "      <th>Global_intensity</th>\n",
       "      <th>Sub_metering_1</th>\n",
       "      <th>Sub_metering_2</th>\n",
       "      <th>Sub_metering_3</th>\n",
       "      <th>Date</th>\n",
       "      <th>Time</th>\n",
       "    </tr>\n",
       "  </thead>\n",
       "  <tbody>\n",
       "    <tr>\n",
       "      <th>0</th>\n",
       "      <td>4.410000</td>\n",
       "      <td>0.368000</td>\n",
       "      <td>239.310000</td>\n",
       "      <td>18.400000</td>\n",
       "      <td>40.000000</td>\n",
       "      <td>0.000000</td>\n",
       "      <td>0.000000</td>\n",
       "      <td>25/12/2006</td>\n",
       "      <td>16:37:00</td>\n",
       "    </tr>\n",
       "    <tr>\n",
       "      <th>1</th>\n",
       "      <td>0.482000</td>\n",
       "      <td>0.110000</td>\n",
       "      <td>239.910000</td>\n",
       "      <td>2.200000</td>\n",
       "      <td>0.000000</td>\n",
       "      <td>1.000000</td>\n",
       "      <td>0.000000</td>\n",
       "      <td>26/3/2007</td>\n",
       "      <td>12:27:00</td>\n",
       "    </tr>\n",
       "    <tr>\n",
       "      <th>2</th>\n",
       "      <td>1.548000</td>\n",
       "      <td>0.266000</td>\n",
       "      <td>239.850000</td>\n",
       "      <td>6.400000</td>\n",
       "      <td>1.000000</td>\n",
       "      <td>1.000000</td>\n",
       "      <td>17.000000</td>\n",
       "      <td>14/6/2007</td>\n",
       "      <td>18:48:00</td>\n",
       "    </tr>\n",
       "    <tr>\n",
       "      <th>3</th>\n",
       "      <td>1.528000</td>\n",
       "      <td>0.078000</td>\n",
       "      <td>235.080000</td>\n",
       "      <td>6.400000</td>\n",
       "      <td>0.000000</td>\n",
       "      <td>0.000000</td>\n",
       "      <td>17.000000</td>\n",
       "      <td>1/8/2007</td>\n",
       "      <td>04:53:00</td>\n",
       "    </tr>\n",
       "    <tr>\n",
       "      <th>4</th>\n",
       "      <td>1.426000</td>\n",
       "      <td>0.000000</td>\n",
       "      <td>241.420000</td>\n",
       "      <td>5.800000</td>\n",
       "      <td>0.000000</td>\n",
       "      <td>0.000000</td>\n",
       "      <td>0.000000</td>\n",
       "      <td>28/12/2006</td>\n",
       "      <td>20:40:00</td>\n",
       "    </tr>\n",
       "    <tr>\n",
       "      <th>5</th>\n",
       "      <td>0.262000</td>\n",
       "      <td>0.122000</td>\n",
       "      <td>242.720000</td>\n",
       "      <td>1.200000</td>\n",
       "      <td>0.000000</td>\n",
       "      <td>3.000000</td>\n",
       "      <td>0.000000</td>\n",
       "      <td>13/6/2007</td>\n",
       "      <td>11:33:00</td>\n",
       "    </tr>\n",
       "    <tr>\n",
       "      <th>6</th>\n",
       "      <td>0.126000</td>\n",
       "      <td>0.000000</td>\n",
       "      <td>236.210000</td>\n",
       "      <td>0.600000</td>\n",
       "      <td>0.000000</td>\n",
       "      <td>0.000000</td>\n",
       "      <td>0.000000</td>\n",
       "      <td>25/7/2007</td>\n",
       "      <td>06:18:00</td>\n",
       "    </tr>\n",
       "    <tr>\n",
       "      <th>7</th>\n",
       "      <td>1.146193</td>\n",
       "      <td>0.124443</td>\n",
       "      <td>239.125355</td>\n",
       "      <td>4.901835</td>\n",
       "      <td>1.234161</td>\n",
       "      <td>1.736341</td>\n",
       "      <td>5.606285</td>\n",
       "      <td>29/4/2007</td>\n",
       "      <td>15:37:00</td>\n",
       "    </tr>\n",
       "    <tr>\n",
       "      <th>8</th>\n",
       "      <td>1.274000</td>\n",
       "      <td>0.088000</td>\n",
       "      <td>241.450000</td>\n",
       "      <td>5.200000</td>\n",
       "      <td>0.000000</td>\n",
       "      <td>0.000000</td>\n",
       "      <td>0.000000</td>\n",
       "      <td>9/6/2007</td>\n",
       "      <td>23:04:00</td>\n",
       "    </tr>\n",
       "    <tr>\n",
       "      <th>9</th>\n",
       "      <td>1.062000</td>\n",
       "      <td>0.382000</td>\n",
       "      <td>239.950000</td>\n",
       "      <td>4.600000</td>\n",
       "      <td>0.000000</td>\n",
       "      <td>0.000000</td>\n",
       "      <td>0.000000</td>\n",
       "      <td>17/4/2007</td>\n",
       "      <td>19:36:00</td>\n",
       "    </tr>\n",
       "    <tr>\n",
       "      <th>10</th>\n",
       "      <td>1.230000</td>\n",
       "      <td>0.000000</td>\n",
       "      <td>234.150000</td>\n",
       "      <td>5.200000</td>\n",
       "      <td>0.000000</td>\n",
       "      <td>0.000000</td>\n",
       "      <td>17.000000</td>\n",
       "      <td>15/5/2007</td>\n",
       "      <td>19:20:00</td>\n",
       "    </tr>\n",
       "    <tr>\n",
       "      <th>11</th>\n",
       "      <td>1.128000</td>\n",
       "      <td>0.000000</td>\n",
       "      <td>233.310000</td>\n",
       "      <td>4.800000</td>\n",
       "      <td>0.000000</td>\n",
       "      <td>0.000000</td>\n",
       "      <td>16.000000</td>\n",
       "      <td>25/7/2007</td>\n",
       "      <td>08:22:00</td>\n",
       "    </tr>\n",
       "    <tr>\n",
       "      <th>12</th>\n",
       "      <td>1.408000</td>\n",
       "      <td>0.156000</td>\n",
       "      <td>238.270000</td>\n",
       "      <td>5.800000</td>\n",
       "      <td>1.000000</td>\n",
       "      <td>0.000000</td>\n",
       "      <td>17.000000</td>\n",
       "      <td>9/1/2007</td>\n",
       "      <td>09:15:00</td>\n",
       "    </tr>\n",
       "    <tr>\n",
       "      <th>13</th>\n",
       "      <td>1.818000</td>\n",
       "      <td>0.182000</td>\n",
       "      <td>232.440000</td>\n",
       "      <td>8.000000</td>\n",
       "      <td>0.000000</td>\n",
       "      <td>0.000000</td>\n",
       "      <td>13.000000</td>\n",
       "      <td>16/5/2007</td>\n",
       "      <td>21:21:00</td>\n",
       "    </tr>\n",
       "    <tr>\n",
       "      <th>14</th>\n",
       "      <td>0.222000</td>\n",
       "      <td>0.088000</td>\n",
       "      <td>242.790000</td>\n",
       "      <td>1.000000</td>\n",
       "      <td>0.000000</td>\n",
       "      <td>0.000000</td>\n",
       "      <td>0.000000</td>\n",
       "      <td>4/7/2007</td>\n",
       "      <td>16:45:00</td>\n",
       "    </tr>\n",
       "    <tr>\n",
       "      <th>15</th>\n",
       "      <td>0.356000</td>\n",
       "      <td>0.106000</td>\n",
       "      <td>239.870000</td>\n",
       "      <td>1.600000</td>\n",
       "      <td>0.000000</td>\n",
       "      <td>0.000000</td>\n",
       "      <td>0.000000</td>\n",
       "      <td>26/3/2007</td>\n",
       "      <td>18:08:00</td>\n",
       "    </tr>\n",
       "    <tr>\n",
       "      <th>16</th>\n",
       "      <td>1.310000</td>\n",
       "      <td>0.000000</td>\n",
       "      <td>244.230000</td>\n",
       "      <td>5.200000</td>\n",
       "      <td>0.000000</td>\n",
       "      <td>0.000000</td>\n",
       "      <td>18.000000</td>\n",
       "      <td>29/12/2006</td>\n",
       "      <td>10:29:00</td>\n",
       "    </tr>\n",
       "    <tr>\n",
       "      <th>17</th>\n",
       "      <td>0.312000</td>\n",
       "      <td>0.264000</td>\n",
       "      <td>242.970000</td>\n",
       "      <td>1.600000</td>\n",
       "      <td>0.000000</td>\n",
       "      <td>2.000000</td>\n",
       "      <td>0.000000</td>\n",
       "      <td>22/6/2007</td>\n",
       "      <td>05:42:00</td>\n",
       "    </tr>\n",
       "    <tr>\n",
       "      <th>18</th>\n",
       "      <td>0.326000</td>\n",
       "      <td>0.116000</td>\n",
       "      <td>241.710000</td>\n",
       "      <td>1.400000</td>\n",
       "      <td>0.000000</td>\n",
       "      <td>0.000000</td>\n",
       "      <td>0.000000</td>\n",
       "      <td>13/3/2007</td>\n",
       "      <td>12:05:00</td>\n",
       "    </tr>\n",
       "    <tr>\n",
       "      <th>19</th>\n",
       "      <td>0.162000</td>\n",
       "      <td>0.000000</td>\n",
       "      <td>237.510000</td>\n",
       "      <td>0.800000</td>\n",
       "      <td>0.000000</td>\n",
       "      <td>0.000000</td>\n",
       "      <td>0.000000</td>\n",
       "      <td>26/6/2007</td>\n",
       "      <td>10:03:00</td>\n",
       "    </tr>\n",
       "  </tbody>\n",
       "</table>\n",
       "</div>"
      ],
      "text/plain": [
       "    Global_active_power  Global_reactive_power     Voltage  Global_intensity  \\\n",
       "0              4.410000               0.368000  239.310000         18.400000   \n",
       "1              0.482000               0.110000  239.910000          2.200000   \n",
       "2              1.548000               0.266000  239.850000          6.400000   \n",
       "3              1.528000               0.078000  235.080000          6.400000   \n",
       "4              1.426000               0.000000  241.420000          5.800000   \n",
       "5              0.262000               0.122000  242.720000          1.200000   \n",
       "6              0.126000               0.000000  236.210000          0.600000   \n",
       "7              1.146193               0.124443  239.125355          4.901835   \n",
       "8              1.274000               0.088000  241.450000          5.200000   \n",
       "9              1.062000               0.382000  239.950000          4.600000   \n",
       "10             1.230000               0.000000  234.150000          5.200000   \n",
       "11             1.128000               0.000000  233.310000          4.800000   \n",
       "12             1.408000               0.156000  238.270000          5.800000   \n",
       "13             1.818000               0.182000  232.440000          8.000000   \n",
       "14             0.222000               0.088000  242.790000          1.000000   \n",
       "15             0.356000               0.106000  239.870000          1.600000   \n",
       "16             1.310000               0.000000  244.230000          5.200000   \n",
       "17             0.312000               0.264000  242.970000          1.600000   \n",
       "18             0.326000               0.116000  241.710000          1.400000   \n",
       "19             0.162000               0.000000  237.510000          0.800000   \n",
       "\n",
       "    Sub_metering_1  Sub_metering_2  Sub_metering_3        Date      Time  \n",
       "0        40.000000        0.000000        0.000000  25/12/2006  16:37:00  \n",
       "1         0.000000        1.000000        0.000000   26/3/2007  12:27:00  \n",
       "2         1.000000        1.000000       17.000000   14/6/2007  18:48:00  \n",
       "3         0.000000        0.000000       17.000000    1/8/2007  04:53:00  \n",
       "4         0.000000        0.000000        0.000000  28/12/2006  20:40:00  \n",
       "5         0.000000        3.000000        0.000000   13/6/2007  11:33:00  \n",
       "6         0.000000        0.000000        0.000000   25/7/2007  06:18:00  \n",
       "7         1.234161        1.736341        5.606285   29/4/2007  15:37:00  \n",
       "8         0.000000        0.000000        0.000000    9/6/2007  23:04:00  \n",
       "9         0.000000        0.000000        0.000000   17/4/2007  19:36:00  \n",
       "10        0.000000        0.000000       17.000000   15/5/2007  19:20:00  \n",
       "11        0.000000        0.000000       16.000000   25/7/2007  08:22:00  \n",
       "12        1.000000        0.000000       17.000000    9/1/2007  09:15:00  \n",
       "13        0.000000        0.000000       13.000000   16/5/2007  21:21:00  \n",
       "14        0.000000        0.000000        0.000000    4/7/2007  16:45:00  \n",
       "15        0.000000        0.000000        0.000000   26/3/2007  18:08:00  \n",
       "16        0.000000        0.000000       18.000000  29/12/2006  10:29:00  \n",
       "17        0.000000        2.000000        0.000000   22/6/2007  05:42:00  \n",
       "18        0.000000        0.000000        0.000000   13/3/2007  12:05:00  \n",
       "19        0.000000        0.000000        0.000000   26/6/2007  10:03:00  "
      ]
     },
     "execution_count": 21,
     "metadata": {},
     "output_type": "execute_result"
    }
   ],
   "source": [
    "# Add back Date and Time columns to new dataframe\n",
    "df4['Date'] = df3['Date']\n",
    "df4['Time'] = df3['Time']\n",
    "df4.head(20)"
   ]
  },
  {
   "cell_type": "markdown",
   "id": "4b349677",
   "metadata": {},
   "source": [
    "#### Note: Review row 7 above.  The NaNs have been replaced with its respective column mean."
   ]
  },
  {
   "cell_type": "code",
   "execution_count": 22,
   "id": "e20bafd1",
   "metadata": {},
   "outputs": [
    {
     "data": {
      "text/plain": [
       "Global_active_power      0\n",
       "Global_reactive_power    0\n",
       "Voltage                  0\n",
       "Global_intensity         0\n",
       "Sub_metering_1           0\n",
       "Sub_metering_2           0\n",
       "Sub_metering_3           0\n",
       "Date                     0\n",
       "Time                     0\n",
       "dtype: int64"
      ]
     },
     "execution_count": 22,
     "metadata": {},
     "output_type": "execute_result"
    }
   ],
   "source": [
    "# Check for null values\n",
    "df4.isnull().sum()"
   ]
  },
  {
   "cell_type": "code",
   "execution_count": 23,
   "id": "c0f3f4a2",
   "metadata": {
    "scrolled": true
   },
   "outputs": [
    {
     "data": {
      "text/html": [
       "<div>\n",
       "<style scoped>\n",
       "    .dataframe tbody tr th:only-of-type {\n",
       "        vertical-align: middle;\n",
       "    }\n",
       "\n",
       "    .dataframe tbody tr th {\n",
       "        vertical-align: top;\n",
       "    }\n",
       "\n",
       "    .dataframe thead th {\n",
       "        text-align: right;\n",
       "    }\n",
       "</style>\n",
       "<table border=\"1\" class=\"dataframe\">\n",
       "  <thead>\n",
       "    <tr style=\"text-align: right;\">\n",
       "      <th></th>\n",
       "      <th>Global_active_power</th>\n",
       "      <th>Global_reactive_power</th>\n",
       "      <th>Voltage</th>\n",
       "      <th>Global_intensity</th>\n",
       "      <th>Sub_metering_1</th>\n",
       "      <th>Sub_metering_2</th>\n",
       "      <th>Sub_metering_3</th>\n",
       "      <th>Date</th>\n",
       "      <th>Time</th>\n",
       "    </tr>\n",
       "  </thead>\n",
       "  <tbody>\n",
       "  </tbody>\n",
       "</table>\n",
       "</div>"
      ],
      "text/plain": [
       "Empty DataFrame\n",
       "Columns: [Global_active_power, Global_reactive_power, Voltage, Global_intensity, Sub_metering_1, Sub_metering_2, Sub_metering_3, Date, Time]\n",
       "Index: []"
      ]
     },
     "execution_count": 23,
     "metadata": {},
     "output_type": "execute_result"
    }
   ],
   "source": [
    "# Check for rows with any missing values\n",
    "df4[df4.isnull().any(axis=1)]"
   ]
  },
  {
   "cell_type": "markdown",
   "id": "de828b16",
   "metadata": {},
   "source": [
    "### Data standardization"
   ]
  },
  {
   "cell_type": "code",
   "execution_count": 24,
   "id": "85e02216",
   "metadata": {},
   "outputs": [
    {
     "data": {
      "text/plain": [
       "0    18.400000\n",
       "1     2.200000\n",
       "2     6.400000\n",
       "3     6.400000\n",
       "4     5.800000\n",
       "5     1.200000\n",
       "6     0.600000\n",
       "7     4.901835\n",
       "8     5.200000\n",
       "9     4.600000\n",
       "Name: Global_intensity, dtype: float64"
      ]
     },
     "execution_count": 24,
     "metadata": {},
     "output_type": "execute_result"
    }
   ],
   "source": [
    "df4['Global_intensity'].head(10)"
   ]
  },
  {
   "cell_type": "code",
   "execution_count": 25,
   "id": "4185af66",
   "metadata": {},
   "outputs": [
    {
     "name": "stdout",
     "output_type": "stream",
     "text": [
      "Global_intensity: min = 0.4, max = 37.0\n"
     ]
    }
   ],
   "source": [
    "print(f\"Global_intensity: min = {df4['Global_intensity'].min()}, max = {df4['Global_intensity'].max()}\")"
   ]
  },
  {
   "cell_type": "code",
   "execution_count": 26,
   "id": "5fecbf5c",
   "metadata": {},
   "outputs": [],
   "source": [
    "# Standardize values\n",
    "scaler = StandardScaler()\n",
    "\n",
    "scaler.fit(np.array(df4[['Global_intensity']]))\n",
    "df4['Global_intensity'] = scaler.transform(np.array(df4[['Global_intensity']]))"
   ]
  },
  {
   "cell_type": "code",
   "execution_count": 27,
   "id": "b0117027",
   "metadata": {},
   "outputs": [
    {
     "data": {
      "text/plain": [
       "0    2.716400\n",
       "1   -0.543723\n",
       "2    0.301494\n",
       "3    0.301494\n",
       "4    0.180749\n",
       "5   -0.744965\n",
       "6   -0.865710\n",
       "7    0.000000\n",
       "8    0.060003\n",
       "9   -0.060742\n",
       "Name: Global_intensity, dtype: float64"
      ]
     },
     "execution_count": 27,
     "metadata": {},
     "output_type": "execute_result"
    }
   ],
   "source": [
    "df4['Global_intensity'].head(10)"
   ]
  },
  {
   "cell_type": "code",
   "execution_count": 28,
   "id": "80b22fdf",
   "metadata": {},
   "outputs": [
    {
     "name": "stdout",
     "output_type": "stream",
     "text": [
      "Global_intensity: min = -0.9059588722502345, max = 6.459503527622711\n"
     ]
    }
   ],
   "source": [
    "print(f\"Global_intensity: min = {df4['Global_intensity'].min()}, max = {df4['Global_intensity'].max()}\")"
   ]
  },
  {
   "cell_type": "markdown",
   "id": "cbe59e8e",
   "metadata": {},
   "source": [
    "### Data normalization"
   ]
  },
  {
   "cell_type": "code",
   "execution_count": 29,
   "id": "84260019",
   "metadata": {},
   "outputs": [
    {
     "data": {
      "text/plain": [
       "0    0.000000\n",
       "1    1.000000\n",
       "2    1.000000\n",
       "3    0.000000\n",
       "4    0.000000\n",
       "5    3.000000\n",
       "6    0.000000\n",
       "7    1.736341\n",
       "8    0.000000\n",
       "9    0.000000\n",
       "Name: Sub_metering_2, dtype: float64"
      ]
     },
     "execution_count": 29,
     "metadata": {},
     "output_type": "execute_result"
    }
   ],
   "source": [
    "df4['Sub_metering_2'].head(10)"
   ]
  },
  {
   "cell_type": "code",
   "execution_count": 30,
   "id": "4ae4ec7f",
   "metadata": {},
   "outputs": [
    {
     "name": "stdout",
     "output_type": "stream",
     "text": [
      "Sub_metering_2: min = 0.0, max = 75.0\n"
     ]
    }
   ],
   "source": [
    "print(f\"Sub_metering_2: min = {df4['Sub_metering_2'].min()}, max = {df4['Sub_metering_2'].max()}\")"
   ]
  },
  {
   "cell_type": "code",
   "execution_count": 31,
   "id": "e5936080",
   "metadata": {},
   "outputs": [],
   "source": [
    "# Normalize values\n",
    "normalizer = Normalizer()\n",
    "\n",
    "normalizer.fit(np.array(df4[['Sub_metering_2']]))\n",
    "df4['Sub_metering_2'] = normalizer.transform(np.array(df4[['Sub_metering_2']]))"
   ]
  },
  {
   "cell_type": "code",
   "execution_count": 32,
   "id": "d00a8c3e",
   "metadata": {},
   "outputs": [
    {
     "data": {
      "text/plain": [
       "0    0.0\n",
       "1    1.0\n",
       "2    1.0\n",
       "3    0.0\n",
       "4    0.0\n",
       "5    1.0\n",
       "6    0.0\n",
       "7    1.0\n",
       "8    0.0\n",
       "9    0.0\n",
       "Name: Sub_metering_2, dtype: float64"
      ]
     },
     "execution_count": 32,
     "metadata": {},
     "output_type": "execute_result"
    }
   ],
   "source": [
    "df4['Sub_metering_2'].head(10)"
   ]
  },
  {
   "cell_type": "code",
   "execution_count": 33,
   "id": "4bf56678",
   "metadata": {},
   "outputs": [
    {
     "name": "stdout",
     "output_type": "stream",
     "text": [
      "Sub_metering_2: min = 0.0, max = 1.0\n"
     ]
    }
   ],
   "source": [
    "print(f\"Sub_metering_2: min = {df4['Sub_metering_2'].min()}, max = {df4['Sub_metering_2'].max()}\")"
   ]
  },
  {
   "cell_type": "markdown",
   "id": "b80a12fe",
   "metadata": {},
   "source": [
    "#### In general, you should standardize data if you can safely assume it’s normally distributed.\n",
    "#### Conversely, if you can safely assume that your data isn’t normally distributed, then normalization is a good method for scaling it."
   ]
  }
 ],
 "metadata": {
  "kernelspec": {
   "display_name": "Python 3 (ipykernel)",
   "language": "python",
   "name": "python3"
  },
  "language_info": {
   "codemirror_mode": {
    "name": "ipython",
    "version": 3
   },
   "file_extension": ".py",
   "mimetype": "text/x-python",
   "name": "python",
   "nbconvert_exporter": "python",
   "pygments_lexer": "ipython3",
   "version": "3.8.2"
  }
 },
 "nbformat": 4,
 "nbformat_minor": 5
}
