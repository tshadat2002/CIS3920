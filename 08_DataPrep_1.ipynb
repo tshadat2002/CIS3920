{
 "cells": [
  {
   "cell_type": "markdown",
   "id": "5849aea0",
   "metadata": {},
   "source": [
    "# Data Preparation 1"
   ]
  },
  {
   "cell_type": "markdown",
   "id": "6486bf5c",
   "metadata": {},
   "source": [
    "### Import libraries"
   ]
  },
  {
   "cell_type": "code",
   "execution_count": 1,
   "id": "70c7976e",
   "metadata": {
    "scrolled": true
   },
   "outputs": [],
   "source": [
    "import pandas as pd\n",
    "from sklearn.preprocessing import OrdinalEncoder\n",
    "from sklearn.preprocessing import OneHotEncoder\n",
    "from sklearn.preprocessing import LabelEncoder"
   ]
  },
  {
   "cell_type": "markdown",
   "id": "ba9167a8",
   "metadata": {},
   "source": [
    "### Setup dataframe"
   ]
  },
  {
   "cell_type": "code",
   "execution_count": 2,
   "id": "acffdb14",
   "metadata": {
    "scrolled": true
   },
   "outputs": [],
   "source": [
    "# Initialize list for dataframe\n",
    "data = [['Adam','male','Ph.D','NY','M', 'PT'],['Dina','female','M.S.','NY','D','PT'], \n",
    "        ['John','male','B.S.','MI','S','FT'],['Elton','male','H.S.','AL','M', 'Unemployed'],\n",
    "        ['Gina','female','H.S.','AK','D', 'Intern'],['Sara', 'female','M.S.','AZ','S','FT'], \n",
    "        ['Lana','female','B.S.', 'CA','M','Intern'],['Tim','male','Ph.D','AR','D', 'PT'],\n",
    "        ['Suzan','female','M.S.','AZ','S','FT'], ['Aj','male','B.S.','CA','M','FT'],\n",
    "        ['Luke','male','H.S.','CA','D', 'Unemployed'],['Salma','female','H.S.','CA','S', 'Intern'],\n",
    "        ['Abby', 'female','M.S.','CA','M','PT'], ['Sandra','female','H.S.','CO','D', 'PT'],\n",
    "        ['Zen','male','Ph.D','CO','S', 'PT'],['Emma','female','M.S.','DC','M','FT'], \n",
    "        ['Owen','male','B.S.','DE','D','Unemployed'],['Levi','male','H.S.','CT','S','Unemployed'],\n",
    "        ['Eva','female','H.S.','DC','M', 'PT'],['Sophia', 'female','M.S.','DC','D','PT'], \n",
    "        ['Ella','female','H.S.','FL','S', 'Unemployed'],['Jacob','male','Ph.D','IL','M', 'FT'],\n",
    "        ['Mia','female','M.S.','FL','D','PT'], ['Ethan','male','B.S.','FL','S','PT'],\n",
    "        ['Luke','male','H.S.','IL','M', 'Intern'],['Nadia','female','H.S.','IN','D', 'Intern'],\n",
    "        ['Tulip', 'female','M.S.','IA','S','PT'],['Linda','female','H.S.','KS','M', 'PT'],\n",
    "        ['Jack','male','Ph.D','KI','D', 'PT'],['Kindra','female','M.S.','LA','S','FT'],\n",
    "        ['Manson','male','B.S.','ME','M','Unemployed'],['Logan','male','H.S.','MD','D', 'Unemployed'],\n",
    "        ['Luna','female','H.S.','MA','S', 'Unemployed'],['Layla', 'female','M.S.','MN','M','Unemployed'],\n",
    "        ['Lynn','female','H.S.','MS','D', 'PT'],['Nora','male','Ph.D','MS','S', 'FT'],\n",
    "        ['Suzy','female','M.S.','MO','M','PT'], ['Lucas','male','B.S.','MT','D','PT'],\n",
    "        ['Chad','male','H.S.','TX','S', 'Unemployed'], ['Soleen','female','H.S.','TX','M','Unemployed'],\n",
    "        ['Zoey', 'female','M.S.','NY','D','FT'], ['Ellie','female','H.S.','TX','S', 'Unemployed'],\n",
    "        ['Oliver','male','Ph.D','TX','M','PT'],['Tamara','female','M.S.','NJ','D','PT'], \n",
    "        ['Noah','male','B.S.','NJ','S','FT'], ['Liam','male','H.S.','MI','M', 'Unemployed'],\n",
    "        ['Stella','female','H.S.','NM','D', 'Unemployed'],['Audrey', 'female','M.S.','NC','S','PT'], \n",
    "        ['Lucy','female','H.S.','ND','M', 'PT'],['Timmy','male','Ph.D','OH','D', 'PT'],\n",
    "        ['Bella','female','M.S.','OH','S','PT'], ['William','male','B.S.','OK','M','FT'],\n",
    "        ['Brian','male','H.S.','OK','D', 'Unemployed'],['Nova','female','H.S.','OR','S', 'Unemployed'],\n",
    "        ['AnnaAbby', 'female','M.S.','MI','M','FT'], ['Elena','female','H.S.','NY','D', 'Intern']]"
   ]
  },
  {
   "cell_type": "code",
   "execution_count": 3,
   "id": "6245b108",
   "metadata": {
    "scrolled": true
   },
   "outputs": [],
   "source": [
    "# Create dataframe\n",
    "df = pd.DataFrame(data, columns = ['Name', 'Gender','Education','State','Marital Status','Employment Status'])"
   ]
  },
  {
   "cell_type": "markdown",
   "id": "79822c0d",
   "metadata": {},
   "source": [
    "### Examine data"
   ]
  },
  {
   "cell_type": "code",
   "execution_count": 4,
   "id": "2e30adc0",
   "metadata": {
    "scrolled": true
   },
   "outputs": [
    {
     "data": {
      "text/plain": [
       "(56, 6)"
      ]
     },
     "execution_count": 4,
     "metadata": {},
     "output_type": "execute_result"
    }
   ],
   "source": [
    "df.shape"
   ]
  },
  {
   "cell_type": "code",
   "execution_count": 5,
   "id": "cf38d02e",
   "metadata": {
    "scrolled": true
   },
   "outputs": [
    {
     "data": {
      "text/html": [
       "<div>\n",
       "<style scoped>\n",
       "    .dataframe tbody tr th:only-of-type {\n",
       "        vertical-align: middle;\n",
       "    }\n",
       "\n",
       "    .dataframe tbody tr th {\n",
       "        vertical-align: top;\n",
       "    }\n",
       "\n",
       "    .dataframe thead th {\n",
       "        text-align: right;\n",
       "    }\n",
       "</style>\n",
       "<table border=\"1\" class=\"dataframe\">\n",
       "  <thead>\n",
       "    <tr style=\"text-align: right;\">\n",
       "      <th></th>\n",
       "      <th>Name</th>\n",
       "      <th>Gender</th>\n",
       "      <th>Education</th>\n",
       "      <th>State</th>\n",
       "      <th>Marital Status</th>\n",
       "      <th>Employment Status</th>\n",
       "    </tr>\n",
       "  </thead>\n",
       "  <tbody>\n",
       "    <tr>\n",
       "      <th>0</th>\n",
       "      <td>Adam</td>\n",
       "      <td>male</td>\n",
       "      <td>Ph.D</td>\n",
       "      <td>NY</td>\n",
       "      <td>M</td>\n",
       "      <td>PT</td>\n",
       "    </tr>\n",
       "    <tr>\n",
       "      <th>1</th>\n",
       "      <td>Dina</td>\n",
       "      <td>female</td>\n",
       "      <td>M.S.</td>\n",
       "      <td>NY</td>\n",
       "      <td>D</td>\n",
       "      <td>PT</td>\n",
       "    </tr>\n",
       "    <tr>\n",
       "      <th>2</th>\n",
       "      <td>John</td>\n",
       "      <td>male</td>\n",
       "      <td>B.S.</td>\n",
       "      <td>MI</td>\n",
       "      <td>S</td>\n",
       "      <td>FT</td>\n",
       "    </tr>\n",
       "    <tr>\n",
       "      <th>3</th>\n",
       "      <td>Elton</td>\n",
       "      <td>male</td>\n",
       "      <td>H.S.</td>\n",
       "      <td>AL</td>\n",
       "      <td>M</td>\n",
       "      <td>Unemployed</td>\n",
       "    </tr>\n",
       "    <tr>\n",
       "      <th>4</th>\n",
       "      <td>Gina</td>\n",
       "      <td>female</td>\n",
       "      <td>H.S.</td>\n",
       "      <td>AK</td>\n",
       "      <td>D</td>\n",
       "      <td>Intern</td>\n",
       "    </tr>\n",
       "  </tbody>\n",
       "</table>\n",
       "</div>"
      ],
      "text/plain": [
       "    Name  Gender Education State Marital Status Employment Status\n",
       "0   Adam    male      Ph.D    NY              M                PT\n",
       "1   Dina  female      M.S.    NY              D                PT\n",
       "2   John    male      B.S.    MI              S                FT\n",
       "3  Elton    male      H.S.    AL              M        Unemployed\n",
       "4   Gina  female      H.S.    AK              D            Intern"
      ]
     },
     "execution_count": 5,
     "metadata": {},
     "output_type": "execute_result"
    }
   ],
   "source": [
    "df.head()"
   ]
  },
  {
   "cell_type": "code",
   "execution_count": 6,
   "id": "2a401892",
   "metadata": {
    "scrolled": true
   },
   "outputs": [],
   "source": [
    "# Save a copy of the original dataframe\n",
    "df_orig = df.copy()"
   ]
  },
  {
   "cell_type": "markdown",
   "id": "f985cd9a",
   "metadata": {},
   "source": [
    "### Prepare data"
   ]
  },
  {
   "cell_type": "code",
   "execution_count": 7,
   "id": "1d961b5b",
   "metadata": {
    "scrolled": true
   },
   "outputs": [
    {
     "data": {
      "text/html": [
       "<div>\n",
       "<style scoped>\n",
       "    .dataframe tbody tr th:only-of-type {\n",
       "        vertical-align: middle;\n",
       "    }\n",
       "\n",
       "    .dataframe tbody tr th {\n",
       "        vertical-align: top;\n",
       "    }\n",
       "\n",
       "    .dataframe thead th {\n",
       "        text-align: right;\n",
       "    }\n",
       "</style>\n",
       "<table border=\"1\" class=\"dataframe\">\n",
       "  <thead>\n",
       "    <tr style=\"text-align: right;\">\n",
       "      <th></th>\n",
       "      <th>Gender</th>\n",
       "      <th>Education</th>\n",
       "      <th>State</th>\n",
       "      <th>Marital Status</th>\n",
       "      <th>Employment Status</th>\n",
       "    </tr>\n",
       "  </thead>\n",
       "  <tbody>\n",
       "    <tr>\n",
       "      <th>0</th>\n",
       "      <td>male</td>\n",
       "      <td>Ph.D</td>\n",
       "      <td>NY</td>\n",
       "      <td>M</td>\n",
       "      <td>PT</td>\n",
       "    </tr>\n",
       "    <tr>\n",
       "      <th>1</th>\n",
       "      <td>female</td>\n",
       "      <td>M.S.</td>\n",
       "      <td>NY</td>\n",
       "      <td>D</td>\n",
       "      <td>PT</td>\n",
       "    </tr>\n",
       "    <tr>\n",
       "      <th>2</th>\n",
       "      <td>male</td>\n",
       "      <td>B.S.</td>\n",
       "      <td>MI</td>\n",
       "      <td>S</td>\n",
       "      <td>FT</td>\n",
       "    </tr>\n",
       "    <tr>\n",
       "      <th>3</th>\n",
       "      <td>male</td>\n",
       "      <td>H.S.</td>\n",
       "      <td>AL</td>\n",
       "      <td>M</td>\n",
       "      <td>Unemployed</td>\n",
       "    </tr>\n",
       "    <tr>\n",
       "      <th>4</th>\n",
       "      <td>female</td>\n",
       "      <td>H.S.</td>\n",
       "      <td>AK</td>\n",
       "      <td>D</td>\n",
       "      <td>Intern</td>\n",
       "    </tr>\n",
       "  </tbody>\n",
       "</table>\n",
       "</div>"
      ],
      "text/plain": [
       "   Gender Education State Marital Status Employment Status\n",
       "0    male      Ph.D    NY              M                PT\n",
       "1  female      M.S.    NY              D                PT\n",
       "2    male      B.S.    MI              S                FT\n",
       "3    male      H.S.    AL              M        Unemployed\n",
       "4  female      H.S.    AK              D            Intern"
      ]
     },
     "execution_count": 7,
     "metadata": {},
     "output_type": "execute_result"
    }
   ],
   "source": [
    "# Drop unnecessary columns\n",
    "df.drop(['Name'], axis=1, inplace=True)\n",
    "df.head()"
   ]
  },
  {
   "cell_type": "markdown",
   "id": "5554982e",
   "metadata": {},
   "source": [
    "### Ordinal encoder"
   ]
  },
  {
   "cell_type": "code",
   "execution_count": 8,
   "id": "b5ad54ad",
   "metadata": {
    "scrolled": true
   },
   "outputs": [
    {
     "data": {
      "text/plain": [
       "array(['Ph.D', 'M.S.', 'B.S.', 'H.S.'], dtype=object)"
      ]
     },
     "execution_count": 8,
     "metadata": {},
     "output_type": "execute_result"
    }
   ],
   "source": [
    "# List unique values for Education\n",
    "df['Education'].unique()"
   ]
  },
  {
   "cell_type": "code",
   "execution_count": 9,
   "id": "b3a1cb77",
   "metadata": {
    "scrolled": true
   },
   "outputs": [
    {
     "data": {
      "text/html": [
       "<div>\n",
       "<style scoped>\n",
       "    .dataframe tbody tr th:only-of-type {\n",
       "        vertical-align: middle;\n",
       "    }\n",
       "\n",
       "    .dataframe tbody tr th {\n",
       "        vertical-align: top;\n",
       "    }\n",
       "\n",
       "    .dataframe thead th {\n",
       "        text-align: right;\n",
       "    }\n",
       "</style>\n",
       "<table border=\"1\" class=\"dataframe\">\n",
       "  <thead>\n",
       "    <tr style=\"text-align: right;\">\n",
       "      <th></th>\n",
       "      <th>Gender</th>\n",
       "      <th>Education</th>\n",
       "      <th>State</th>\n",
       "      <th>Marital Status</th>\n",
       "      <th>Employment Status</th>\n",
       "    </tr>\n",
       "  </thead>\n",
       "  <tbody>\n",
       "    <tr>\n",
       "      <th>0</th>\n",
       "      <td>male</td>\n",
       "      <td>3.0</td>\n",
       "      <td>NY</td>\n",
       "      <td>M</td>\n",
       "      <td>PT</td>\n",
       "    </tr>\n",
       "    <tr>\n",
       "      <th>1</th>\n",
       "      <td>female</td>\n",
       "      <td>2.0</td>\n",
       "      <td>NY</td>\n",
       "      <td>D</td>\n",
       "      <td>PT</td>\n",
       "    </tr>\n",
       "    <tr>\n",
       "      <th>2</th>\n",
       "      <td>male</td>\n",
       "      <td>1.0</td>\n",
       "      <td>MI</td>\n",
       "      <td>S</td>\n",
       "      <td>FT</td>\n",
       "    </tr>\n",
       "    <tr>\n",
       "      <th>3</th>\n",
       "      <td>male</td>\n",
       "      <td>0.0</td>\n",
       "      <td>AL</td>\n",
       "      <td>M</td>\n",
       "      <td>Unemployed</td>\n",
       "    </tr>\n",
       "    <tr>\n",
       "      <th>4</th>\n",
       "      <td>female</td>\n",
       "      <td>0.0</td>\n",
       "      <td>AK</td>\n",
       "      <td>D</td>\n",
       "      <td>Intern</td>\n",
       "    </tr>\n",
       "  </tbody>\n",
       "</table>\n",
       "</div>"
      ],
      "text/plain": [
       "   Gender  Education State Marital Status Employment Status\n",
       "0    male        3.0    NY              M                PT\n",
       "1  female        2.0    NY              D                PT\n",
       "2    male        1.0    MI              S                FT\n",
       "3    male        0.0    AL              M        Unemployed\n",
       "4  female        0.0    AK              D            Intern"
      ]
     },
     "execution_count": 9,
     "metadata": {},
     "output_type": "execute_result"
    }
   ],
   "source": [
    "# Encode Education column\n",
    "oe = OrdinalEncoder(categories=[['H.S.', 'B.S.', 'M.S.','Ph.D']])     # Arrange values according to relative value\n",
    "df['Education'] = oe.fit_transform(df[['Education']])\n",
    "df.head()"
   ]
  },
  {
   "cell_type": "markdown",
   "id": "62c2f64a",
   "metadata": {},
   "source": [
    "### Dummy encoding (one hot encoding)"
   ]
  },
  {
   "cell_type": "code",
   "execution_count": 10,
   "id": "06d2880b",
   "metadata": {
    "scrolled": true
   },
   "outputs": [
    {
     "data": {
      "text/plain": [
       "array(['male', 'female'], dtype=object)"
      ]
     },
     "execution_count": 10,
     "metadata": {},
     "output_type": "execute_result"
    }
   ],
   "source": [
    "# List unique values for Gender\n",
    "df['Gender'].unique()"
   ]
  },
  {
   "cell_type": "code",
   "execution_count": 11,
   "id": "2ec4bb60",
   "metadata": {
    "scrolled": false
   },
   "outputs": [
    {
     "data": {
      "text/html": [
       "<div>\n",
       "<style scoped>\n",
       "    .dataframe tbody tr th:only-of-type {\n",
       "        vertical-align: middle;\n",
       "    }\n",
       "\n",
       "    .dataframe tbody tr th {\n",
       "        vertical-align: top;\n",
       "    }\n",
       "\n",
       "    .dataframe thead th {\n",
       "        text-align: right;\n",
       "    }\n",
       "</style>\n",
       "<table border=\"1\" class=\"dataframe\">\n",
       "  <thead>\n",
       "    <tr style=\"text-align: right;\">\n",
       "      <th></th>\n",
       "      <th>female</th>\n",
       "      <th>male</th>\n",
       "    </tr>\n",
       "  </thead>\n",
       "  <tbody>\n",
       "    <tr>\n",
       "      <th>0</th>\n",
       "      <td>0</td>\n",
       "      <td>1</td>\n",
       "    </tr>\n",
       "    <tr>\n",
       "      <th>1</th>\n",
       "      <td>1</td>\n",
       "      <td>0</td>\n",
       "    </tr>\n",
       "    <tr>\n",
       "      <th>2</th>\n",
       "      <td>0</td>\n",
       "      <td>1</td>\n",
       "    </tr>\n",
       "    <tr>\n",
       "      <th>3</th>\n",
       "      <td>0</td>\n",
       "      <td>1</td>\n",
       "    </tr>\n",
       "    <tr>\n",
       "      <th>4</th>\n",
       "      <td>1</td>\n",
       "      <td>0</td>\n",
       "    </tr>\n",
       "  </tbody>\n",
       "</table>\n",
       "</div>"
      ],
      "text/plain": [
       "   female  male\n",
       "0       0     1\n",
       "1       1     0\n",
       "2       0     1\n",
       "3       0     1\n",
       "4       1     0"
      ]
     },
     "execution_count": 11,
     "metadata": {},
     "output_type": "execute_result"
    }
   ],
   "source": [
    "# Generate encodings for Gender\n",
    "df_ohe1 = pd.get_dummies(df['Gender'])\n",
    "df_ohe1.head()"
   ]
  },
  {
   "cell_type": "code",
   "execution_count": 12,
   "id": "e1b76af8",
   "metadata": {
    "scrolled": true
   },
   "outputs": [
    {
     "data": {
      "text/html": [
       "<div>\n",
       "<style scoped>\n",
       "    .dataframe tbody tr th:only-of-type {\n",
       "        vertical-align: middle;\n",
       "    }\n",
       "\n",
       "    .dataframe tbody tr th {\n",
       "        vertical-align: top;\n",
       "    }\n",
       "\n",
       "    .dataframe thead th {\n",
       "        text-align: right;\n",
       "    }\n",
       "</style>\n",
       "<table border=\"1\" class=\"dataframe\">\n",
       "  <thead>\n",
       "    <tr style=\"text-align: right;\">\n",
       "      <th></th>\n",
       "      <th>Gender</th>\n",
       "      <th>Education</th>\n",
       "      <th>State</th>\n",
       "      <th>Marital Status</th>\n",
       "      <th>Employment Status</th>\n",
       "      <th>female</th>\n",
       "      <th>male</th>\n",
       "    </tr>\n",
       "  </thead>\n",
       "  <tbody>\n",
       "    <tr>\n",
       "      <th>0</th>\n",
       "      <td>male</td>\n",
       "      <td>3.0</td>\n",
       "      <td>NY</td>\n",
       "      <td>M</td>\n",
       "      <td>PT</td>\n",
       "      <td>0</td>\n",
       "      <td>1</td>\n",
       "    </tr>\n",
       "    <tr>\n",
       "      <th>1</th>\n",
       "      <td>female</td>\n",
       "      <td>2.0</td>\n",
       "      <td>NY</td>\n",
       "      <td>D</td>\n",
       "      <td>PT</td>\n",
       "      <td>1</td>\n",
       "      <td>0</td>\n",
       "    </tr>\n",
       "    <tr>\n",
       "      <th>2</th>\n",
       "      <td>male</td>\n",
       "      <td>1.0</td>\n",
       "      <td>MI</td>\n",
       "      <td>S</td>\n",
       "      <td>FT</td>\n",
       "      <td>0</td>\n",
       "      <td>1</td>\n",
       "    </tr>\n",
       "    <tr>\n",
       "      <th>3</th>\n",
       "      <td>male</td>\n",
       "      <td>0.0</td>\n",
       "      <td>AL</td>\n",
       "      <td>M</td>\n",
       "      <td>Unemployed</td>\n",
       "      <td>0</td>\n",
       "      <td>1</td>\n",
       "    </tr>\n",
       "    <tr>\n",
       "      <th>4</th>\n",
       "      <td>female</td>\n",
       "      <td>0.0</td>\n",
       "      <td>AK</td>\n",
       "      <td>D</td>\n",
       "      <td>Intern</td>\n",
       "      <td>1</td>\n",
       "      <td>0</td>\n",
       "    </tr>\n",
       "  </tbody>\n",
       "</table>\n",
       "</div>"
      ],
      "text/plain": [
       "   Gender  Education State Marital Status Employment Status  female  male\n",
       "0    male        3.0    NY              M                PT       0     1\n",
       "1  female        2.0    NY              D                PT       1     0\n",
       "2    male        1.0    MI              S                FT       0     1\n",
       "3    male        0.0    AL              M        Unemployed       0     1\n",
       "4  female        0.0    AK              D            Intern       1     0"
      ]
     },
     "execution_count": 12,
     "metadata": {},
     "output_type": "execute_result"
    }
   ],
   "source": [
    "# Join dataframe with Gender-encoded dataframe\n",
    "df2 = df.join(df_ohe1)\n",
    "df2.head()"
   ]
  },
  {
   "cell_type": "code",
   "execution_count": 13,
   "id": "a831899e",
   "metadata": {
    "scrolled": true
   },
   "outputs": [
    {
     "data": {
      "text/html": [
       "<div>\n",
       "<style scoped>\n",
       "    .dataframe tbody tr th:only-of-type {\n",
       "        vertical-align: middle;\n",
       "    }\n",
       "\n",
       "    .dataframe tbody tr th {\n",
       "        vertical-align: top;\n",
       "    }\n",
       "\n",
       "    .dataframe thead th {\n",
       "        text-align: right;\n",
       "    }\n",
       "</style>\n",
       "<table border=\"1\" class=\"dataframe\">\n",
       "  <thead>\n",
       "    <tr style=\"text-align: right;\">\n",
       "      <th></th>\n",
       "      <th>Education</th>\n",
       "      <th>State</th>\n",
       "      <th>Marital Status</th>\n",
       "      <th>Employment Status</th>\n",
       "      <th>female</th>\n",
       "      <th>male</th>\n",
       "    </tr>\n",
       "  </thead>\n",
       "  <tbody>\n",
       "    <tr>\n",
       "      <th>0</th>\n",
       "      <td>3.0</td>\n",
       "      <td>NY</td>\n",
       "      <td>M</td>\n",
       "      <td>PT</td>\n",
       "      <td>0</td>\n",
       "      <td>1</td>\n",
       "    </tr>\n",
       "    <tr>\n",
       "      <th>1</th>\n",
       "      <td>2.0</td>\n",
       "      <td>NY</td>\n",
       "      <td>D</td>\n",
       "      <td>PT</td>\n",
       "      <td>1</td>\n",
       "      <td>0</td>\n",
       "    </tr>\n",
       "    <tr>\n",
       "      <th>2</th>\n",
       "      <td>1.0</td>\n",
       "      <td>MI</td>\n",
       "      <td>S</td>\n",
       "      <td>FT</td>\n",
       "      <td>0</td>\n",
       "      <td>1</td>\n",
       "    </tr>\n",
       "    <tr>\n",
       "      <th>3</th>\n",
       "      <td>0.0</td>\n",
       "      <td>AL</td>\n",
       "      <td>M</td>\n",
       "      <td>Unemployed</td>\n",
       "      <td>0</td>\n",
       "      <td>1</td>\n",
       "    </tr>\n",
       "    <tr>\n",
       "      <th>4</th>\n",
       "      <td>0.0</td>\n",
       "      <td>AK</td>\n",
       "      <td>D</td>\n",
       "      <td>Intern</td>\n",
       "      <td>1</td>\n",
       "      <td>0</td>\n",
       "    </tr>\n",
       "  </tbody>\n",
       "</table>\n",
       "</div>"
      ],
      "text/plain": [
       "   Education State Marital Status Employment Status  female  male\n",
       "0        3.0    NY              M                PT       0     1\n",
       "1        2.0    NY              D                PT       1     0\n",
       "2        1.0    MI              S                FT       0     1\n",
       "3        0.0    AL              M        Unemployed       0     1\n",
       "4        0.0    AK              D            Intern       1     0"
      ]
     },
     "execution_count": 13,
     "metadata": {},
     "output_type": "execute_result"
    }
   ],
   "source": [
    "# Drop Gender column since it is now encoded\n",
    "df2.drop(['Gender'], axis=1, inplace=True)\n",
    "df2.head()"
   ]
  },
  {
   "cell_type": "code",
   "execution_count": 14,
   "id": "a1aaf7d5",
   "metadata": {},
   "outputs": [
    {
     "data": {
      "text/plain": [
       "array(['M', 'D', 'S'], dtype=object)"
      ]
     },
     "execution_count": 14,
     "metadata": {},
     "output_type": "execute_result"
    }
   ],
   "source": [
    "# List unique values for Marital Status\n",
    "df2['Marital Status'].unique()"
   ]
  },
  {
   "cell_type": "code",
   "execution_count": 15,
   "id": "732c4dae",
   "metadata": {
    "scrolled": true
   },
   "outputs": [
    {
     "data": {
      "text/html": [
       "<div>\n",
       "<style scoped>\n",
       "    .dataframe tbody tr th:only-of-type {\n",
       "        vertical-align: middle;\n",
       "    }\n",
       "\n",
       "    .dataframe tbody tr th {\n",
       "        vertical-align: top;\n",
       "    }\n",
       "\n",
       "    .dataframe thead th {\n",
       "        text-align: right;\n",
       "    }\n",
       "</style>\n",
       "<table border=\"1\" class=\"dataframe\">\n",
       "  <thead>\n",
       "    <tr style=\"text-align: right;\">\n",
       "      <th></th>\n",
       "      <th>Education</th>\n",
       "      <th>State</th>\n",
       "      <th>Employment Status</th>\n",
       "      <th>female</th>\n",
       "      <th>male</th>\n",
       "      <th>Marital Status_D</th>\n",
       "      <th>Marital Status_M</th>\n",
       "      <th>Marital Status_S</th>\n",
       "    </tr>\n",
       "  </thead>\n",
       "  <tbody>\n",
       "    <tr>\n",
       "      <th>0</th>\n",
       "      <td>3.0</td>\n",
       "      <td>NY</td>\n",
       "      <td>PT</td>\n",
       "      <td>0</td>\n",
       "      <td>1</td>\n",
       "      <td>0</td>\n",
       "      <td>1</td>\n",
       "      <td>0</td>\n",
       "    </tr>\n",
       "    <tr>\n",
       "      <th>1</th>\n",
       "      <td>2.0</td>\n",
       "      <td>NY</td>\n",
       "      <td>PT</td>\n",
       "      <td>1</td>\n",
       "      <td>0</td>\n",
       "      <td>1</td>\n",
       "      <td>0</td>\n",
       "      <td>0</td>\n",
       "    </tr>\n",
       "    <tr>\n",
       "      <th>2</th>\n",
       "      <td>1.0</td>\n",
       "      <td>MI</td>\n",
       "      <td>FT</td>\n",
       "      <td>0</td>\n",
       "      <td>1</td>\n",
       "      <td>0</td>\n",
       "      <td>0</td>\n",
       "      <td>1</td>\n",
       "    </tr>\n",
       "    <tr>\n",
       "      <th>3</th>\n",
       "      <td>0.0</td>\n",
       "      <td>AL</td>\n",
       "      <td>Unemployed</td>\n",
       "      <td>0</td>\n",
       "      <td>1</td>\n",
       "      <td>0</td>\n",
       "      <td>1</td>\n",
       "      <td>0</td>\n",
       "    </tr>\n",
       "    <tr>\n",
       "      <th>4</th>\n",
       "      <td>0.0</td>\n",
       "      <td>AK</td>\n",
       "      <td>Intern</td>\n",
       "      <td>1</td>\n",
       "      <td>0</td>\n",
       "      <td>1</td>\n",
       "      <td>0</td>\n",
       "      <td>0</td>\n",
       "    </tr>\n",
       "  </tbody>\n",
       "</table>\n",
       "</div>"
      ],
      "text/plain": [
       "   Education State Employment Status  female  male  Marital Status_D  \\\n",
       "0        3.0    NY                PT       0     1                 0   \n",
       "1        2.0    NY                PT       1     0                 1   \n",
       "2        1.0    MI                FT       0     1                 0   \n",
       "3        0.0    AL        Unemployed       0     1                 0   \n",
       "4        0.0    AK            Intern       1     0                 1   \n",
       "\n",
       "   Marital Status_M  Marital Status_S  \n",
       "0                 1                 0  \n",
       "1                 0                 0  \n",
       "2                 0                 1  \n",
       "3                 1                 0  \n",
       "4                 0                 0  "
      ]
     },
     "execution_count": 15,
     "metadata": {},
     "output_type": "execute_result"
    }
   ],
   "source": [
    "# More efficient way to perform one hot encoding\n",
    "df2 = pd.get_dummies(df2, prefix=['Marital Status'], columns = ['Marital Status'])\n",
    "df2.head()"
   ]
  },
  {
   "cell_type": "markdown",
   "id": "196aef33",
   "metadata": {},
   "source": [
    "### Label encoding"
   ]
  },
  {
   "cell_type": "code",
   "execution_count": 16,
   "id": "4f10a491",
   "metadata": {
    "scrolled": true
   },
   "outputs": [
    {
     "data": {
      "text/html": [
       "<div>\n",
       "<style scoped>\n",
       "    .dataframe tbody tr th:only-of-type {\n",
       "        vertical-align: middle;\n",
       "    }\n",
       "\n",
       "    .dataframe tbody tr th {\n",
       "        vertical-align: top;\n",
       "    }\n",
       "\n",
       "    .dataframe thead th {\n",
       "        text-align: right;\n",
       "    }\n",
       "</style>\n",
       "<table border=\"1\" class=\"dataframe\">\n",
       "  <thead>\n",
       "    <tr style=\"text-align: right;\">\n",
       "      <th></th>\n",
       "      <th>Education</th>\n",
       "      <th>State</th>\n",
       "      <th>Employment Status</th>\n",
       "      <th>female</th>\n",
       "      <th>male</th>\n",
       "      <th>Marital Status_D</th>\n",
       "      <th>Marital Status_M</th>\n",
       "      <th>Marital Status_S</th>\n",
       "    </tr>\n",
       "  </thead>\n",
       "  <tbody>\n",
       "    <tr>\n",
       "      <th>0</th>\n",
       "      <td>3.0</td>\n",
       "      <td>NY</td>\n",
       "      <td>2</td>\n",
       "      <td>0</td>\n",
       "      <td>1</td>\n",
       "      <td>0</td>\n",
       "      <td>1</td>\n",
       "      <td>0</td>\n",
       "    </tr>\n",
       "    <tr>\n",
       "      <th>1</th>\n",
       "      <td>2.0</td>\n",
       "      <td>NY</td>\n",
       "      <td>2</td>\n",
       "      <td>1</td>\n",
       "      <td>0</td>\n",
       "      <td>1</td>\n",
       "      <td>0</td>\n",
       "      <td>0</td>\n",
       "    </tr>\n",
       "    <tr>\n",
       "      <th>2</th>\n",
       "      <td>1.0</td>\n",
       "      <td>MI</td>\n",
       "      <td>0</td>\n",
       "      <td>0</td>\n",
       "      <td>1</td>\n",
       "      <td>0</td>\n",
       "      <td>0</td>\n",
       "      <td>1</td>\n",
       "    </tr>\n",
       "    <tr>\n",
       "      <th>3</th>\n",
       "      <td>0.0</td>\n",
       "      <td>AL</td>\n",
       "      <td>3</td>\n",
       "      <td>0</td>\n",
       "      <td>1</td>\n",
       "      <td>0</td>\n",
       "      <td>1</td>\n",
       "      <td>0</td>\n",
       "    </tr>\n",
       "    <tr>\n",
       "      <th>4</th>\n",
       "      <td>0.0</td>\n",
       "      <td>AK</td>\n",
       "      <td>1</td>\n",
       "      <td>1</td>\n",
       "      <td>0</td>\n",
       "      <td>1</td>\n",
       "      <td>0</td>\n",
       "      <td>0</td>\n",
       "    </tr>\n",
       "  </tbody>\n",
       "</table>\n",
       "</div>"
      ],
      "text/plain": [
       "   Education State  Employment Status  female  male  Marital Status_D  \\\n",
       "0        3.0    NY                  2       0     1                 0   \n",
       "1        2.0    NY                  2       1     0                 1   \n",
       "2        1.0    MI                  0       0     1                 0   \n",
       "3        0.0    AL                  3       0     1                 0   \n",
       "4        0.0    AK                  1       1     0                 1   \n",
       "\n",
       "   Marital Status_M  Marital Status_S  \n",
       "0                 1                 0  \n",
       "1                 0                 0  \n",
       "2                 0                 1  \n",
       "3                 1                 0  \n",
       "4                 0                 0  "
      ]
     },
     "execution_count": 16,
     "metadata": {},
     "output_type": "execute_result"
    }
   ],
   "source": [
    "# Encode Employment Status column\n",
    "le = LabelEncoder()\n",
    "df2['Employment Status']= le.fit_transform(df2['Employment Status']) \n",
    "df2.head()"
   ]
  },
  {
   "cell_type": "markdown",
   "id": "8d4bd4ca",
   "metadata": {},
   "source": [
    "#### Note: We can decide to either drop State column or one-hot encode it"
   ]
  },
  {
   "cell_type": "code",
   "execution_count": 17,
   "id": "9f6ddefc",
   "metadata": {
    "scrolled": true
   },
   "outputs": [
    {
     "data": {
      "text/html": [
       "<div>\n",
       "<style scoped>\n",
       "    .dataframe tbody tr th:only-of-type {\n",
       "        vertical-align: middle;\n",
       "    }\n",
       "\n",
       "    .dataframe tbody tr th {\n",
       "        vertical-align: top;\n",
       "    }\n",
       "\n",
       "    .dataframe thead th {\n",
       "        text-align: right;\n",
       "    }\n",
       "</style>\n",
       "<table border=\"1\" class=\"dataframe\">\n",
       "  <thead>\n",
       "    <tr style=\"text-align: right;\">\n",
       "      <th></th>\n",
       "      <th>Name</th>\n",
       "      <th>Gender</th>\n",
       "      <th>Education</th>\n",
       "      <th>State</th>\n",
       "      <th>Marital Status</th>\n",
       "      <th>Employment Status</th>\n",
       "    </tr>\n",
       "  </thead>\n",
       "  <tbody>\n",
       "    <tr>\n",
       "      <th>0</th>\n",
       "      <td>Adam</td>\n",
       "      <td>male</td>\n",
       "      <td>Ph.D</td>\n",
       "      <td>NY</td>\n",
       "      <td>M</td>\n",
       "      <td>PT</td>\n",
       "    </tr>\n",
       "    <tr>\n",
       "      <th>1</th>\n",
       "      <td>Dina</td>\n",
       "      <td>female</td>\n",
       "      <td>M.S.</td>\n",
       "      <td>NY</td>\n",
       "      <td>D</td>\n",
       "      <td>PT</td>\n",
       "    </tr>\n",
       "    <tr>\n",
       "      <th>2</th>\n",
       "      <td>John</td>\n",
       "      <td>male</td>\n",
       "      <td>B.S.</td>\n",
       "      <td>MI</td>\n",
       "      <td>S</td>\n",
       "      <td>FT</td>\n",
       "    </tr>\n",
       "    <tr>\n",
       "      <th>3</th>\n",
       "      <td>Elton</td>\n",
       "      <td>male</td>\n",
       "      <td>H.S.</td>\n",
       "      <td>AL</td>\n",
       "      <td>M</td>\n",
       "      <td>Unemployed</td>\n",
       "    </tr>\n",
       "    <tr>\n",
       "      <th>4</th>\n",
       "      <td>Gina</td>\n",
       "      <td>female</td>\n",
       "      <td>H.S.</td>\n",
       "      <td>AK</td>\n",
       "      <td>D</td>\n",
       "      <td>Intern</td>\n",
       "    </tr>\n",
       "  </tbody>\n",
       "</table>\n",
       "</div>"
      ],
      "text/plain": [
       "    Name  Gender Education State Marital Status Employment Status\n",
       "0   Adam    male      Ph.D    NY              M                PT\n",
       "1   Dina  female      M.S.    NY              D                PT\n",
       "2   John    male      B.S.    MI              S                FT\n",
       "3  Elton    male      H.S.    AL              M        Unemployed\n",
       "4   Gina  female      H.S.    AK              D            Intern"
      ]
     },
     "execution_count": 17,
     "metadata": {},
     "output_type": "execute_result"
    }
   ],
   "source": [
    "# Compare with original dataframe\n",
    "df_orig.head()"
   ]
  }
 ],
 "metadata": {
  "kernelspec": {
   "display_name": "Python 3 (ipykernel)",
   "language": "python",
   "name": "python3"
  },
  "language_info": {
   "codemirror_mode": {
    "name": "ipython",
    "version": 3
   },
   "file_extension": ".py",
   "mimetype": "text/x-python",
   "name": "python",
   "nbconvert_exporter": "python",
   "pygments_lexer": "ipython3",
   "version": "3.8.2"
  }
 },
 "nbformat": 4,
 "nbformat_minor": 5
}
