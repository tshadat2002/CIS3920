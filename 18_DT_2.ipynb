{
 "cells": [
  {
   "cell_type": "markdown",
   "id": "dd2a0ac7",
   "metadata": {},
   "source": [
    "# Decision Tree 2 - Hyperparameter Tuning"
   ]
  },
  {
   "cell_type": "markdown",
   "id": "103942ba",
   "metadata": {},
   "source": [
    "### Import libraries"
   ]
  },
  {
   "cell_type": "code",
   "execution_count": 1,
   "id": "296a300e",
   "metadata": {},
   "outputs": [],
   "source": [
    "import numpy as np\n",
    "import pandas as pd\n",
    "from pprint import pprint\n",
    "import seaborn as sns\n",
    "import matplotlib.pyplot as plt\n",
    "%matplotlib inline\n",
    "from sklearn.model_selection import train_test_split\n",
    "from sklearn.tree import DecisionTreeClassifier\n",
    "from sklearn.metrics import accuracy_score\n",
    "from sklearn.metrics import confusion_matrix\n",
    "from sklearn.model_selection import GridSearchCV\n",
    "from sklearn.model_selection import RandomizedSearchCV"
   ]
  },
  {
   "cell_type": "markdown",
   "id": "380d6212",
   "metadata": {},
   "source": [
    "### Load data"
   ]
  },
  {
   "cell_type": "markdown",
   "id": "dde0e0cc",
   "metadata": {},
   "source": [
    "Dataset by Heart Disease UCI:\n",
    "\n",
    "Dataset source: https://archive.ics.uci.edu/ml/datasets/Heart+Disease\n",
    "\n",
    "Dataset columns:\n",
    "* age: The person’s age in years\n",
    "* sex: The person’s sex (1 = male, 0 = female)\n",
    "* cp: chest pain type\n",
    "  * Value 0: asymptomatic\n",
    "  * Value 1: atypical angina\n",
    "  * Value 2: non-anginal pain\n",
    "  * Value 3: typical angina\n",
    "* trestbps: The person’s resting blood pressure (mm Hg on admission to the hospital)\n",
    "* chol: The person’s cholesterol measurement in mg/dl\n",
    "* fbs: The person’s fasting blood sugar (> 120 mg/dl, 1 = true; 0 = false)\n",
    "* restecg: resting electrocardiographic results\n",
    "  * Value 0: showing probable or definite left ventricular hypertrophy by Estes’ criteria\n",
    "  * Value 1: normal\n",
    "  * Value 2: having ST-T wave abnormality (T wave inversions and/or ST elevation or depression of > 0.05 mV)\n",
    "* thalach: The person’s maximum heart rate achieved\n",
    "* exang: Exercise induced angina (1 = yes; 0 = no)\n",
    "* oldpeak: ST depression induced by exercise relative to rest (‘ST’ relates to positions on the ECG plot. See more here)\n",
    "* slope: the slope of the peak exercise ST segment\n",
    "  * 0: downsloping\n",
    "  * 1: flat\n",
    "  * 2: upsloping\n",
    "* ca: The number of major vessels (0–3)\n",
    "* thal: A blood disorder called thalassemia Value 0: NULL (dropped from the dataset previously\n",
    "  * Value 1: fixed defect (no blood flow in some part of the heart)\n",
    "  * Value 2: normal blood flow\n",
    "  * Value 3: reversible defect (a blood flow is observed but it is not normal)\n",
    "* target: Heart disease (1 = no, 0= yes)"
   ]
  },
  {
   "cell_type": "code",
   "execution_count": 2,
   "id": "a2aaa35f",
   "metadata": {},
   "outputs": [],
   "source": [
    "df = pd.read_csv(\"data/heart_disease.csv\")"
   ]
  },
  {
   "cell_type": "markdown",
   "id": "b09ee8a7",
   "metadata": {},
   "source": [
    "### Examine data"
   ]
  },
  {
   "cell_type": "code",
   "execution_count": 3,
   "id": "b339a397",
   "metadata": {},
   "outputs": [
    {
     "data": {
      "text/plain": [
       "(303, 14)"
      ]
     },
     "execution_count": 3,
     "metadata": {},
     "output_type": "execute_result"
    }
   ],
   "source": [
    "df.shape"
   ]
  },
  {
   "cell_type": "code",
   "execution_count": 4,
   "id": "7587c6a7",
   "metadata": {},
   "outputs": [
    {
     "data": {
      "text/html": [
       "<div>\n",
       "<style scoped>\n",
       "    .dataframe tbody tr th:only-of-type {\n",
       "        vertical-align: middle;\n",
       "    }\n",
       "\n",
       "    .dataframe tbody tr th {\n",
       "        vertical-align: top;\n",
       "    }\n",
       "\n",
       "    .dataframe thead th {\n",
       "        text-align: right;\n",
       "    }\n",
       "</style>\n",
       "<table border=\"1\" class=\"dataframe\">\n",
       "  <thead>\n",
       "    <tr style=\"text-align: right;\">\n",
       "      <th></th>\n",
       "      <th>age</th>\n",
       "      <th>sex</th>\n",
       "      <th>cp</th>\n",
       "      <th>trestbps</th>\n",
       "      <th>chol</th>\n",
       "      <th>fbs</th>\n",
       "      <th>restecg</th>\n",
       "      <th>thalach</th>\n",
       "      <th>exang</th>\n",
       "      <th>oldpeak</th>\n",
       "      <th>slope</th>\n",
       "      <th>ca</th>\n",
       "      <th>thal</th>\n",
       "      <th>target</th>\n",
       "    </tr>\n",
       "  </thead>\n",
       "  <tbody>\n",
       "    <tr>\n",
       "      <th>0</th>\n",
       "      <td>63</td>\n",
       "      <td>1</td>\n",
       "      <td>3</td>\n",
       "      <td>145</td>\n",
       "      <td>233</td>\n",
       "      <td>1</td>\n",
       "      <td>0</td>\n",
       "      <td>150</td>\n",
       "      <td>0</td>\n",
       "      <td>2.3</td>\n",
       "      <td>0</td>\n",
       "      <td>0</td>\n",
       "      <td>1</td>\n",
       "      <td>1</td>\n",
       "    </tr>\n",
       "    <tr>\n",
       "      <th>1</th>\n",
       "      <td>37</td>\n",
       "      <td>1</td>\n",
       "      <td>2</td>\n",
       "      <td>130</td>\n",
       "      <td>250</td>\n",
       "      <td>0</td>\n",
       "      <td>1</td>\n",
       "      <td>187</td>\n",
       "      <td>0</td>\n",
       "      <td>3.5</td>\n",
       "      <td>0</td>\n",
       "      <td>0</td>\n",
       "      <td>2</td>\n",
       "      <td>1</td>\n",
       "    </tr>\n",
       "    <tr>\n",
       "      <th>2</th>\n",
       "      <td>41</td>\n",
       "      <td>0</td>\n",
       "      <td>1</td>\n",
       "      <td>130</td>\n",
       "      <td>204</td>\n",
       "      <td>0</td>\n",
       "      <td>0</td>\n",
       "      <td>172</td>\n",
       "      <td>0</td>\n",
       "      <td>1.4</td>\n",
       "      <td>2</td>\n",
       "      <td>0</td>\n",
       "      <td>2</td>\n",
       "      <td>1</td>\n",
       "    </tr>\n",
       "    <tr>\n",
       "      <th>3</th>\n",
       "      <td>56</td>\n",
       "      <td>1</td>\n",
       "      <td>1</td>\n",
       "      <td>120</td>\n",
       "      <td>236</td>\n",
       "      <td>0</td>\n",
       "      <td>1</td>\n",
       "      <td>178</td>\n",
       "      <td>0</td>\n",
       "      <td>0.8</td>\n",
       "      <td>2</td>\n",
       "      <td>0</td>\n",
       "      <td>2</td>\n",
       "      <td>1</td>\n",
       "    </tr>\n",
       "    <tr>\n",
       "      <th>4</th>\n",
       "      <td>57</td>\n",
       "      <td>0</td>\n",
       "      <td>0</td>\n",
       "      <td>120</td>\n",
       "      <td>354</td>\n",
       "      <td>0</td>\n",
       "      <td>1</td>\n",
       "      <td>163</td>\n",
       "      <td>1</td>\n",
       "      <td>0.6</td>\n",
       "      <td>2</td>\n",
       "      <td>0</td>\n",
       "      <td>2</td>\n",
       "      <td>1</td>\n",
       "    </tr>\n",
       "  </tbody>\n",
       "</table>\n",
       "</div>"
      ],
      "text/plain": [
       "   age  sex  cp  trestbps  chol  fbs  restecg  thalach  exang  oldpeak  slope  \\\n",
       "0   63    1   3       145   233    1        0      150      0      2.3      0   \n",
       "1   37    1   2       130   250    0        1      187      0      3.5      0   \n",
       "2   41    0   1       130   204    0        0      172      0      1.4      2   \n",
       "3   56    1   1       120   236    0        1      178      0      0.8      2   \n",
       "4   57    0   0       120   354    0        1      163      1      0.6      2   \n",
       "\n",
       "   ca  thal  target  \n",
       "0   0     1       1  \n",
       "1   0     2       1  \n",
       "2   0     2       1  \n",
       "3   0     2       1  \n",
       "4   0     2       1  "
      ]
     },
     "execution_count": 4,
     "metadata": {},
     "output_type": "execute_result"
    }
   ],
   "source": [
    "df.head()"
   ]
  },
  {
   "cell_type": "markdown",
   "id": "7e00ea34",
   "metadata": {},
   "source": [
    "### Separate independent and dependent variables"
   ]
  },
  {
   "cell_type": "code",
   "execution_count": 5,
   "id": "3b139807",
   "metadata": {},
   "outputs": [],
   "source": [
    "X = df.drop(columns=\"target\")\n",
    "y = df[\"target\"]"
   ]
  },
  {
   "cell_type": "markdown",
   "id": "44fd07ea",
   "metadata": {},
   "source": [
    "### Set global variable"
   ]
  },
  {
   "cell_type": "code",
   "execution_count": 6,
   "id": "b6cd5856",
   "metadata": {},
   "outputs": [],
   "source": [
    "global random_state\n",
    "random_state=10"
   ]
  },
  {
   "cell_type": "markdown",
   "id": "613f3626",
   "metadata": {},
   "source": [
    "### Split data into training and test sets"
   ]
  },
  {
   "cell_type": "code",
   "execution_count": 7,
   "id": "a76cc038",
   "metadata": {},
   "outputs": [],
   "source": [
    "X_train, X_test, y_train, y_test = train_test_split(X, y, test_size=0.25, \n",
    "                                                    shuffle=True, random_state=random_state)"
   ]
  },
  {
   "cell_type": "markdown",
   "id": "511446a1",
   "metadata": {},
   "source": [
    "### Train decision tree model"
   ]
  },
  {
   "cell_type": "code",
   "execution_count": 8,
   "id": "497d1a42",
   "metadata": {},
   "outputs": [
    {
     "data": {
      "text/plain": [
       "DecisionTreeClassifier(random_state=10)"
      ]
     },
     "execution_count": 8,
     "metadata": {},
     "output_type": "execute_result"
    }
   ],
   "source": [
    "model = DecisionTreeClassifier(random_state=random_state)\n",
    "model.fit(X_train, y_train)"
   ]
  },
  {
   "cell_type": "markdown",
   "id": "d97b6d44",
   "metadata": {},
   "source": [
    "### Generate accuracy metrics"
   ]
  },
  {
   "cell_type": "code",
   "execution_count": 9,
   "id": "6d7a4bba",
   "metadata": {},
   "outputs": [
    {
     "name": "stdout",
     "output_type": "stream",
     "text": [
      "Train accuracy: 1.0\n",
      "Test accuracy: 0.7\n"
     ]
    }
   ],
   "source": [
    "X_pred = model.predict(X_train)     # Make predictions on training set\n",
    "y_pred = model.predict(X_test)      # Make predictions on test set\n",
    "print(\"Train accuracy:\", np.round(accuracy_score(y_train, X_pred), 2))\n",
    "initial_test_accuracy = np.round(accuracy_score(y_test, y_pred), 2)\n",
    "print(\"Test accuracy:\", initial_test_accuracy)"
   ]
  },
  {
   "cell_type": "markdown",
   "id": "8fe08c30",
   "metadata": {},
   "source": [
    "### Generate confusion matrix (on test set)"
   ]
  },
  {
   "cell_type": "code",
   "execution_count": 10,
   "id": "b96746d5",
   "metadata": {
    "scrolled": true
   },
   "outputs": [
    {
     "name": "stdout",
     "output_type": "stream",
     "text": [
      "\n",
      "Test confusion_matrix\n"
     ]
    },
    {
     "data": {
      "text/plain": [
       "Text(33.0, 0.5, 'True')"
      ]
     },
     "execution_count": 10,
     "metadata": {},
     "output_type": "execute_result"
    },
    {
     "data": {
      "image/png": "[encoded data removed]",
      "text/plain": [
       "<Figure size 432x288 with 2 Axes>"
      ]
     },
     "metadata": {
      "needs_background": "light"
     },
     "output_type": "display_data"
    }
   ],
   "source": [
    "cf_matrix = confusion_matrix(y_test, y_pred)\n",
    "print(\"\\nTest confusion_matrix\")\n",
    "sns.heatmap(cf_matrix, annot=True, cmap='Blues')\n",
    "plt.xlabel('Predicted', fontsize=12)\n",
    "plt.ylabel('True', fontsize=12)"
   ]
  },
  {
   "cell_type": "markdown",
   "id": "b7a4a497",
   "metadata": {},
   "source": [
    "The base model has learned the training data very well, but it does not generalize as well on new input data (test set). In technical terms, our base model is overfitting. Decision tree models have a tendency to overfit.\n",
    "\n",
    "Let's use Grid Search and Random Search methods to improve our model's performance (test accuracy score)"
   ]
  },
  {
   "cell_type": "markdown",
   "id": "9890c488",
   "metadata": {},
   "source": [
    "### Set up hyperparameter grid"
   ]
  },
  {
   "cell_type": "code",
   "execution_count": 11,
   "id": "37a252f3",
   "metadata": {},
   "outputs": [
    {
     "name": "stdout",
     "output_type": "stream",
     "text": [
      "{'max_depth': [2, 4, 6, 8, 10, 12, 14, 16, 18, 20],\n",
      " 'min_samples_leaf': array([ 2,  4,  6,  8, 10, 12, 14]),\n",
      " 'min_samples_split': [1, 2, 3, 5, 10]}\n"
     ]
    }
   ],
   "source": [
    "# Prepare the hyperparameters values to search\n",
    "max_depth = [int(x) for x in np.linspace(2, 20, num = 10)]\n",
    "min_samples_leaf = np.arange(2, 15, 2)\n",
    "min_samples_split = [1, 2, 3, 5, 10]\n",
    "\n",
    "# Create the hyperparameter grid\n",
    "grid = {'max_depth': max_depth,\n",
    "        'min_samples_split': min_samples_split,\n",
    "        'min_samples_leaf': min_samples_leaf\n",
    "       }\n",
    "\n",
    "pprint(grid)"
   ]
  },
  {
   "cell_type": "code",
   "execution_count": 12,
   "id": "2306826c",
   "metadata": {},
   "outputs": [],
   "source": [
    "# Instantiate the grid search model\n",
    "#  Note: cv=10\n",
    "gs = GridSearchCV(model, param_grid=grid, \n",
    "                  scoring=\"accuracy\", verbose=1,\n",
    "                  n_jobs=-1, cv=10, return_train_score=True)"
   ]
  },
  {
   "cell_type": "markdown",
   "id": "e5571638",
   "metadata": {},
   "source": [
    "### Run grid search"
   ]
  },
  {
   "cell_type": "code",
   "execution_count": 13,
   "id": "3eb4cd53",
   "metadata": {},
   "outputs": [
    {
     "name": "stdout",
     "output_type": "stream",
     "text": [
      "Fitting 10 folds for each of 350 candidates, totalling 3500 fits\n",
      "CPU times: user 1.68 s, sys: 162 ms, total: 1.84 s\n",
      "Wall time: 6.82 s\n"
     ]
    },
    {
     "name": "stderr",
     "output_type": "stream",
     "text": [
      "/opt/anaconda3/lib/python3.8/site-packages/sklearn/model_selection/_search.py:918: UserWarning: One or more of the test scores are non-finite: [       nan 0.77094862 0.77094862 0.77094862 0.77094862        nan\n",
      " 0.77094862 0.77094862 0.77094862 0.77094862        nan 0.77094862\n",
      " 0.77094862 0.77094862 0.77094862        nan 0.77094862 0.77094862\n",
      " 0.77094862 0.77094862        nan 0.77094862 0.77094862 0.77094862\n",
      " 0.77094862        nan 0.77094862 0.77094862 0.77094862 0.77094862\n",
      "        nan 0.77094862 0.77094862 0.77094862 0.77094862        nan\n",
      " 0.76660079 0.76660079 0.76660079 0.77094862        nan 0.7756917\n",
      " 0.7756917  0.7756917  0.78003953        nan 0.77964427 0.77964427\n",
      " 0.77964427 0.77964427        nan 0.8013834  0.8013834  0.8013834\n",
      " 0.8013834         nan 0.79268775 0.79268775 0.79268775 0.79268775\n",
      "        nan 0.78814229 0.78814229 0.78814229 0.78814229        nan\n",
      " 0.77075099 0.77075099 0.77075099 0.77075099        nan 0.77075099\n",
      " 0.77075099 0.77529644 0.75790514        nan 0.77964427 0.77964427\n",
      " 0.77964427 0.78853755        nan 0.7798419  0.7798419  0.7798419\n",
      " 0.7798419         nan 0.79683794 0.79683794 0.79683794 0.79683794\n",
      "        nan 0.7972332  0.7972332  0.7972332  0.7972332         nan\n",
      " 0.78814229 0.78814229 0.78814229 0.78814229        nan 0.77075099\n",
      " 0.77075099 0.77075099 0.77075099        nan 0.8013834  0.8013834\n",
      " 0.79703557 0.77094862        nan 0.78418972 0.78418972 0.78418972\n",
      " 0.78399209        nan 0.7798419  0.7798419  0.7798419  0.7798419\n",
      "        nan 0.79683794 0.79683794 0.79683794 0.79683794        nan\n",
      " 0.7972332  0.7972332  0.7972332  0.7972332         nan 0.78814229\n",
      " 0.78814229 0.78814229 0.78814229        nan 0.77075099 0.77075099\n",
      " 0.77075099 0.77075099        nan 0.8013834  0.8013834  0.79703557\n",
      " 0.77094862        nan 0.78418972 0.78418972 0.78418972 0.78399209\n",
      "        nan 0.7798419  0.7798419  0.7798419  0.7798419         nan\n",
      " 0.79683794 0.79683794 0.79683794 0.79683794        nan 0.7972332\n",
      " 0.7972332  0.7972332  0.7972332         nan 0.78814229 0.78814229\n",
      " 0.78814229 0.78814229        nan 0.77075099 0.77075099 0.77075099\n",
      " 0.77075099        nan 0.8013834  0.8013834  0.79703557 0.77094862\n",
      "        nan 0.78418972 0.78418972 0.78418972 0.78399209        nan\n",
      " 0.7798419  0.7798419  0.7798419  0.7798419         nan 0.79683794\n",
      " 0.79683794 0.79683794 0.79683794        nan 0.7972332  0.7972332\n",
      " 0.7972332  0.7972332         nan 0.78814229 0.78814229 0.78814229\n",
      " 0.78814229        nan 0.77075099 0.77075099 0.77075099 0.77075099\n",
      "        nan 0.8013834  0.8013834  0.79703557 0.77094862        nan\n",
      " 0.78418972 0.78418972 0.78418972 0.78399209        nan 0.7798419\n",
      " 0.7798419  0.7798419  0.7798419         nan 0.79683794 0.79683794\n",
      " 0.79683794 0.79683794        nan 0.7972332  0.7972332  0.7972332\n",
      " 0.7972332         nan 0.78814229 0.78814229 0.78814229 0.78814229\n",
      "        nan 0.77075099 0.77075099 0.77075099 0.77075099        nan\n",
      " 0.8013834  0.8013834  0.79703557 0.77094862        nan 0.78418972\n",
      " 0.78418972 0.78418972 0.78399209        nan 0.7798419  0.7798419\n",
      " 0.7798419  0.7798419         nan 0.79683794 0.79683794 0.79683794\n",
      " 0.79683794        nan 0.7972332  0.7972332  0.7972332  0.7972332\n",
      "        nan 0.78814229 0.78814229 0.78814229 0.78814229        nan\n",
      " 0.77075099 0.77075099 0.77075099 0.77075099        nan 0.8013834\n",
      " 0.8013834  0.79703557 0.77094862        nan 0.78418972 0.78418972\n",
      " 0.78418972 0.78399209        nan 0.7798419  0.7798419  0.7798419\n",
      " 0.7798419         nan 0.79683794 0.79683794 0.79683794 0.79683794\n",
      "        nan 0.7972332  0.7972332  0.7972332  0.7972332         nan\n",
      " 0.78814229 0.78814229 0.78814229 0.78814229        nan 0.77075099\n",
      " 0.77075099 0.77075099 0.77075099        nan 0.8013834  0.8013834\n",
      " 0.79703557 0.77094862        nan 0.78418972 0.78418972 0.78418972\n",
      " 0.78399209        nan 0.7798419  0.7798419  0.7798419  0.7798419\n",
      "        nan 0.79683794 0.79683794 0.79683794 0.79683794        nan\n",
      " 0.7972332  0.7972332  0.7972332  0.7972332         nan 0.78814229\n",
      " 0.78814229 0.78814229 0.78814229        nan 0.77075099 0.77075099\n",
      " 0.77075099 0.77075099]\n",
      "  warnings.warn(\n",
      "/opt/anaconda3/lib/python3.8/site-packages/sklearn/model_selection/_search.py:918: UserWarning: One or more of the train scores are non-finite: [       nan 0.79736011 0.79736011 0.79736011 0.79736011        nan\n",
      " 0.79736011 0.79736011 0.79736011 0.79736011        nan 0.79736011\n",
      " 0.79736011 0.79736011 0.79736011        nan 0.79736011 0.79736011\n",
      " 0.79736011 0.79736011        nan 0.79736011 0.79736011 0.79736011\n",
      " 0.79736011        nan 0.79736011 0.79736011 0.79736011 0.79736011\n",
      "        nan 0.79736011 0.79736011 0.79736011 0.79736011        nan\n",
      " 0.89770206 0.89770206 0.8903539  0.8898637         nan 0.8864395\n",
      " 0.8864395  0.8864395  0.8864395         nan 0.88203491 0.88203491\n",
      " 0.88203491 0.88203491        nan 0.87713773 0.87713773 0.87713773\n",
      " 0.87713773        nan 0.87126495 0.87126495 0.87126495 0.87126495\n",
      "        nan 0.86538737 0.86538737 0.86538737 0.86538737        nan\n",
      " 0.85265423 0.85265423 0.85265423 0.85265423        nan 0.94273075\n",
      " 0.94273075 0.92902439 0.90552606        nan 0.90161645 0.90161645\n",
      " 0.90161645 0.89965567        nan 0.88741989 0.88741989 0.88741989\n",
      " 0.88741989        nan 0.87909613 0.87909613 0.87909613 0.87909613\n",
      "        nan 0.87224534 0.87224534 0.87224534 0.87224534        nan\n",
      " 0.86538737 0.86538737 0.86538737 0.86538737        nan 0.85265423\n",
      " 0.85265423 0.85265423 0.85265423        nan 0.95350311 0.95350311\n",
      " 0.93930655 0.90748207        nan 0.90308704 0.90308704 0.90308704\n",
      " 0.90063606        nan 0.88741989 0.88741989 0.88741989 0.88741989\n",
      "        nan 0.87909613 0.87909613 0.87909613 0.87909613        nan\n",
      " 0.87224534 0.87224534 0.87224534 0.87224534        nan 0.86538737\n",
      " 0.86538737 0.86538737 0.86538737        nan 0.85265423 0.85265423\n",
      " 0.85265423 0.85265423        nan 0.95350311 0.95350311 0.93930655\n",
      " 0.90748207        nan 0.90308704 0.90308704 0.90308704 0.90063606\n",
      "        nan 0.88741989 0.88741989 0.88741989 0.88741989        nan\n",
      " 0.87909613 0.87909613 0.87909613 0.87909613        nan 0.87224534\n",
      " 0.87224534 0.87224534 0.87224534        nan 0.86538737 0.86538737\n",
      " 0.86538737 0.86538737        nan 0.85265423 0.85265423 0.85265423\n",
      " 0.85265423        nan 0.95350311 0.95350311 0.93930655 0.90748207\n",
      "        nan 0.90308704 0.90308704 0.90308704 0.90063606        nan\n",
      " 0.88741989 0.88741989 0.88741989 0.88741989        nan 0.87909613\n",
      " 0.87909613 0.87909613 0.87909613        nan 0.87224534 0.87224534\n",
      " 0.87224534 0.87224534        nan 0.86538737 0.86538737 0.86538737\n",
      " 0.86538737        nan 0.85265423 0.85265423 0.85265423 0.85265423\n",
      "        nan 0.95350311 0.95350311 0.93930655 0.90748207        nan\n",
      " 0.90308704 0.90308704 0.90308704 0.90063606        nan 0.88741989\n",
      " 0.88741989 0.88741989 0.88741989        nan 0.87909613 0.87909613\n",
      " 0.87909613 0.87909613        nan 0.87224534 0.87224534 0.87224534\n",
      " 0.87224534        nan 0.86538737 0.86538737 0.86538737 0.86538737\n",
      "        nan 0.85265423 0.85265423 0.85265423 0.85265423        nan\n",
      " 0.95350311 0.95350311 0.93930655 0.90748207        nan 0.90308704\n",
      " 0.90308704 0.90308704 0.90063606        nan 0.88741989 0.88741989\n",
      " 0.88741989 0.88741989        nan 0.87909613 0.87909613 0.87909613\n",
      " 0.87909613        nan 0.87224534 0.87224534 0.87224534 0.87224534\n",
      "        nan 0.86538737 0.86538737 0.86538737 0.86538737        nan\n",
      " 0.85265423 0.85265423 0.85265423 0.85265423        nan 0.95350311\n",
      " 0.95350311 0.93930655 0.90748207        nan 0.90308704 0.90308704\n",
      " 0.90308704 0.90063606        nan 0.88741989 0.88741989 0.88741989\n",
      " 0.88741989        nan 0.87909613 0.87909613 0.87909613 0.87909613\n",
      "        nan 0.87224534 0.87224534 0.87224534 0.87224534        nan\n",
      " 0.86538737 0.86538737 0.86538737 0.86538737        nan 0.85265423\n",
      " 0.85265423 0.85265423 0.85265423        nan 0.95350311 0.95350311\n",
      " 0.93930655 0.90748207        nan 0.90308704 0.90308704 0.90308704\n",
      " 0.90063606        nan 0.88741989 0.88741989 0.88741989 0.88741989\n",
      "        nan 0.87909613 0.87909613 0.87909613 0.87909613        nan\n",
      " 0.87224534 0.87224534 0.87224534 0.87224534        nan 0.86538737\n",
      " 0.86538737 0.86538737 0.86538737        nan 0.85265423 0.85265423\n",
      " 0.85265423 0.85265423]\n",
      "  warnings.warn(\n"
     ]
    },
    {
     "data": {
      "text/plain": [
       "GridSearchCV(cv=10, estimator=DecisionTreeClassifier(random_state=10),\n",
       "             n_jobs=-1,\n",
       "             param_grid={'max_depth': [2, 4, 6, 8, 10, 12, 14, 16, 18, 20],\n",
       "                         'min_samples_leaf': array([ 2,  4,  6,  8, 10, 12, 14]),\n",
       "                         'min_samples_split': [1, 2, 3, 5, 10]},\n",
       "             return_train_score=True, scoring='accuracy', verbose=1)"
      ]
     },
     "execution_count": 13,
     "metadata": {},
     "output_type": "execute_result"
    }
   ],
   "source": [
    "%%time\n",
    "gs.fit(X_train, y_train)"
   ]
  },
  {
   "cell_type": "markdown",
   "id": "c13f9191",
   "metadata": {},
   "source": [
    "We tried all 350 hyperparameter combinations times 10 folds for each combination resulting in 3500 trained models"
   ]
  },
  {
   "cell_type": "markdown",
   "id": "d68e51c3",
   "metadata": {},
   "source": [
    "### Review best parameters and accuracy score from grid search"
   ]
  },
  {
   "cell_type": "code",
   "execution_count": 14,
   "id": "22289b05",
   "metadata": {},
   "outputs": [
    {
     "name": "stdout",
     "output_type": "stream",
     "text": [
      "Optimal hyperparameter combination: {'max_depth': 4, 'min_samples_leaf': 8, 'min_samples_split': 2}\n",
      "\n",
      "Mean cross-validated training accuracy score: 0.8\n"
     ]
    }
   ],
   "source": [
    "print(\"Optimal hyperparameter combination:\", gs.best_params_)\n",
    "print()\n",
    "print(\"Mean cross-validated training accuracy score:\", np.round(gs.best_score_,2))"
   ]
  },
  {
   "cell_type": "markdown",
   "id": "0baae466",
   "metadata": {},
   "source": [
    "### Re-train model with best hyperparameters from grid search"
   ]
  },
  {
   "cell_type": "code",
   "execution_count": 15,
   "id": "8bbe61d4",
   "metadata": {},
   "outputs": [
    {
     "data": {
      "text/plain": [
       "DecisionTreeClassifier(max_depth=4, min_samples_leaf=8, random_state=10)"
      ]
     },
     "execution_count": 15,
     "metadata": {},
     "output_type": "execute_result"
    }
   ],
   "source": [
    "# Train with gs.best_params_ from cell above\n",
    "gs.best_estimator_.fit(X_train, y_train)"
   ]
  },
  {
   "cell_type": "markdown",
   "id": "16b509bb",
   "metadata": {},
   "source": [
    "### Review best grid search estimator's predictions"
   ]
  },
  {
   "cell_type": "code",
   "execution_count": 16,
   "id": "4a61c24c",
   "metadata": {},
   "outputs": [
    {
     "name": "stdout",
     "output_type": "stream",
     "text": [
      "Test accuracy: 0.75\n"
     ]
    }
   ],
   "source": [
    "y_pred = gs.best_estimator_.predict(X_test)     # Make predictions on test set\n",
    "grid_search_test_accuracy = np.round(accuracy_score(y_test, y_pred), 2)\n",
    "print(\"Test accuracy:\", np.round(accuracy_score(y_test, y_pred), 2))"
   ]
  },
  {
   "cell_type": "code",
   "execution_count": 17,
   "id": "19ef137c",
   "metadata": {},
   "outputs": [
    {
     "data": {
      "text/plain": [
       "Text(33.0, 0.5, 'True')"
      ]
     },
     "execution_count": 17,
     "metadata": {},
     "output_type": "execute_result"
    },
    {
     "data": {
      "image/png": "[encoded data removed]",
      "text/plain": [
       "<Figure size 432x288 with 2 Axes>"
      ]
     },
     "metadata": {
      "needs_background": "light"
     },
     "output_type": "display_data"
    }
   ],
   "source": [
    "cf_matrix = confusion_matrix(y_test, y_pred)\n",
    "sns.heatmap(cf_matrix, annot=True, cmap='Blues')\n",
    "plt.xlabel('Predicted')\n",
    "plt.ylabel('True')"
   ]
  },
  {
   "cell_type": "markdown",
   "id": "beb15164",
   "metadata": {},
   "source": [
    "Model performance has improved. This time, the model is not overfitting as much. It performs almost as well on both train and test sets (80% vs. 75%). In addition to that, both false positives and false negatives have been reduced after tuning hyperparameters."
   ]
  },
  {
   "cell_type": "markdown",
   "id": "41f7ef95",
   "metadata": {},
   "source": [
    "### Set up random search"
   ]
  },
  {
   "cell_type": "code",
   "execution_count": 18,
   "id": "54d748fc",
   "metadata": {},
   "outputs": [],
   "source": [
    "# Use the same hyperparameter grid\n",
    "#  Notes: cv=10 (same as for grid search), and n_iter=50\n",
    "rs = RandomizedSearchCV(model, param_distributions=grid,\n",
    "                        n_iter=50, scoring=\"accuracy\", random_state=random_state,\n",
    "                        n_jobs=-1, cv=10, return_train_score=True)"
   ]
  },
  {
   "cell_type": "markdown",
   "id": "4f9be2f5",
   "metadata": {},
   "source": [
    "### Run random search"
   ]
  },
  {
   "cell_type": "code",
   "execution_count": 19,
   "id": "220f7747",
   "metadata": {
    "scrolled": true
   },
   "outputs": [
    {
     "name": "stdout",
     "output_type": "stream",
     "text": [
      "CPU times: user 308 ms, sys: 18.5 ms, total: 326 ms\n",
      "Wall time: 644 ms\n"
     ]
    },
    {
     "name": "stderr",
     "output_type": "stream",
     "text": [
      "/opt/anaconda3/lib/python3.8/site-packages/sklearn/model_selection/_search.py:918: UserWarning: One or more of the test scores are non-finite: [0.7756917  0.78814229 0.77075099        nan        nan 0.77094862\n",
      " 0.79683794 0.77075099 0.78814229 0.78418972        nan 0.7798419\n",
      " 0.79683794 0.77075099 0.8013834  0.78418972 0.7972332  0.7798419\n",
      " 0.77094862 0.78418972 0.77075099 0.7798419         nan 0.8013834\n",
      "        nan 0.77075099        nan 0.78418972 0.79683794 0.78814229\n",
      " 0.77964427 0.78418972 0.78399209        nan 0.78418972 0.77075099\n",
      " 0.77094862 0.79683794        nan        nan        nan 0.7972332\n",
      " 0.77964427 0.79683794 0.77094862        nan        nan 0.79683794\n",
      " 0.77075099 0.8013834 ]\n",
      "  warnings.warn(\n",
      "/opt/anaconda3/lib/python3.8/site-packages/sklearn/model_selection/_search.py:918: UserWarning: One or more of the train scores are non-finite: [0.8864395  0.86538737 0.85265423        nan        nan 0.79736011\n",
      " 0.87909613 0.85265423 0.86538737 0.90308704        nan 0.88741989\n",
      " 0.87909613 0.85265423 0.95350311 0.90308704 0.87224534 0.88741989\n",
      " 0.79736011 0.90308704 0.85265423 0.88741989        nan 0.87713773\n",
      "        nan 0.85265423        nan 0.90308704 0.87909613 0.86538737\n",
      " 0.90161645 0.90308704 0.90063606        nan 0.90308704 0.85265423\n",
      " 0.79736011 0.87909613        nan        nan        nan 0.87224534\n",
      " 0.88203491 0.87909613 0.79736011        nan        nan 0.87909613\n",
      " 0.85265423 0.95350311]\n",
      "  warnings.warn(\n"
     ]
    },
    {
     "data": {
      "text/plain": [
       "RandomizedSearchCV(cv=10, estimator=DecisionTreeClassifier(random_state=10),\n",
       "                   n_iter=50, n_jobs=-1,\n",
       "                   param_distributions={'max_depth': [2, 4, 6, 8, 10, 12, 14,\n",
       "                                                      16, 18, 20],\n",
       "                                        'min_samples_leaf': array([ 2,  4,  6,  8, 10, 12, 14]),\n",
       "                                        'min_samples_split': [1, 2, 3, 5, 10]},\n",
       "                   random_state=10, return_train_score=True,\n",
       "                   scoring='accuracy')"
      ]
     },
     "execution_count": 19,
     "metadata": {},
     "output_type": "execute_result"
    }
   ],
   "source": [
    "%%time\n",
    "rs.fit(X_train, y_train)"
   ]
  },
  {
   "cell_type": "markdown",
   "id": "ce358ad2",
   "metadata": {},
   "source": [
    "We tried a randomly selected set of 50 hyperparameter combinations times 10 folds for each combination resulting in 500 trained models"
   ]
  },
  {
   "cell_type": "markdown",
   "id": "1e243d91",
   "metadata": {},
   "source": [
    "### Review best parameters and accuracy score from random search"
   ]
  },
  {
   "cell_type": "code",
   "execution_count": 20,
   "id": "85ffa2c9",
   "metadata": {
    "scrolled": true
   },
   "outputs": [
    {
     "name": "stdout",
     "output_type": "stream",
     "text": [
      "Optimal hyperparameter combination: {'min_samples_split': 3, 'min_samples_leaf': 2, 'max_depth': 10}\n",
      "\tNote: Different combination of hyperparameter values than from grid search\n",
      "\n",
      "Mean cross-validated training accuracy score: 0.8\n"
     ]
    }
   ],
   "source": [
    "print(\"Optimal hyperparameter combination:\", rs.best_params_)\n",
    "print(\"\\tNote: Different combination of hyperparameter values than from grid search\")\n",
    "print()\n",
    "print(\"Mean cross-validated training accuracy score:\", np.round(rs.best_score_,2))"
   ]
  },
  {
   "cell_type": "markdown",
   "id": "4923f432",
   "metadata": {},
   "source": [
    "### Re-train model with best hyperparameters from random search"
   ]
  },
  {
   "cell_type": "code",
   "execution_count": 21,
   "id": "c4f59afd",
   "metadata": {
    "scrolled": false
   },
   "outputs": [
    {
     "data": {
      "text/plain": [
       "DecisionTreeClassifier(max_depth=10, min_samples_leaf=2, min_samples_split=3,\n",
       "                       random_state=10)"
      ]
     },
     "execution_count": 21,
     "metadata": {},
     "output_type": "execute_result"
    }
   ],
   "source": [
    "# Train with rs.best_params_ from cell above\n",
    "rs.best_estimator_.fit(X_train, y_train)"
   ]
  },
  {
   "cell_type": "markdown",
   "id": "77e65eed",
   "metadata": {},
   "source": [
    "### Review best random search estimator's predictions"
   ]
  },
  {
   "cell_type": "code",
   "execution_count": 22,
   "id": "e1cd96a4",
   "metadata": {},
   "outputs": [
    {
     "name": "stdout",
     "output_type": "stream",
     "text": [
      "Test accuracy: 0.74\n"
     ]
    }
   ],
   "source": [
    "y_pred = rs.best_estimator_.predict(X_test)     # Make predictions on test set\n",
    "random_search_test_accuracy = np.round(accuracy_score(y_test, y_pred), 2)\n",
    "print(\"Test accuracy:\", np.round(accuracy_score(y_test, y_pred), 2))"
   ]
  },
  {
   "cell_type": "code",
   "execution_count": 23,
   "id": "4eb59a01",
   "metadata": {
    "scrolled": true
   },
   "outputs": [
    {
     "data": {
      "text/plain": [
       "Text(33.0, 0.5, 'True')"
      ]
     },
     "execution_count": 23,
     "metadata": {},
     "output_type": "execute_result"
    },
    {
     "data": {
      "image/png": "[encoded data removed]",
      "text/plain": [
       "<Figure size 432x288 with 2 Axes>"
      ]
     },
     "metadata": {
      "needs_background": "light"
     },
     "output_type": "display_data"
    }
   ],
   "source": [
    "cf_matrix = confusion_matrix(y_test, y_pred)\n",
    "sns.heatmap(cf_matrix, annot=True, cmap='Blues')\n",
    "plt.xlabel('Predicted')\n",
    "plt.ylabel('True')"
   ]
  },
  {
   "cell_type": "markdown",
   "id": "562aaeb7",
   "metadata": {},
   "source": [
    "### Performance summary"
   ]
  },
  {
   "cell_type": "code",
   "execution_count": 24,
   "id": "e0ac9b3a",
   "metadata": {},
   "outputs": [
    {
     "name": "stdout",
     "output_type": "stream",
     "text": [
      "Test accuracy\n",
      "=============\n",
      "Initial model =  0.7\n",
      "After grid search =  0.75\n",
      "After random search =  0.74\n"
     ]
    }
   ],
   "source": [
    "print(\"Test accuracy\")\n",
    "print(\"=============\")\n",
    "print(\"Initial model = \", initial_test_accuracy)\n",
    "print(\"After grid search = \", grid_search_test_accuracy)\n",
    "print(\"After random search = \", random_search_test_accuracy)"
   ]
  },
  {
   "cell_type": "markdown",
   "id": "c08b324d",
   "metadata": {},
   "source": [
    "The model performance after random search is almost the same (74% vs 75%) as after Grid Search.  \n",
    "However, random search's execution time is significantly less (0.644 seconds vs 6.82 seconds) than grid search's."
   ]
  }
 ],
 "metadata": {
  "kernelspec": {
   "display_name": "Python 3",
   "language": "python",
   "name": "python3"
  },
  "language_info": {
   "codemirror_mode": {
    "name": "ipython",
    "version": 3
   },
   "file_extension": ".py",
   "mimetype": "text/x-python",
   "name": "python",
   "nbconvert_exporter": "python",
   "pygments_lexer": "ipython3",
   "version": "3.8.8"
  }
 },
 "nbformat": 4,
 "nbformat_minor": 5
}
