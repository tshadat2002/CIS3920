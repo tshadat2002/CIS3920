{
 "cells": [
  {
   "cell_type": "markdown",
   "id": "80561679",
   "metadata": {},
   "source": [
    "# Recommender Systems 1 - Collaborative Filtering 1"
   ]
  },
  {
   "cell_type": "markdown",
   "id": "4ad0df2f",
   "metadata": {},
   "source": [
    "### Import libraries"
   ]
  },
  {
   "cell_type": "code",
   "execution_count": 1,
   "id": "dd962a98",
   "metadata": {
    "scrolled": true
   },
   "outputs": [],
   "source": [
    "import numpy as np\n",
    "import pandas as pd\n",
    "from sklearn.neighbors import NearestNeighbors     # Unsupervised learner for implementing neighbor searches\n",
    "from sklearn.metrics import pairwise_distances     # Compute the distance matrix from either a vector array\n",
    "                                                   #  or a matrix, and returns a distance matrix"
   ]
  },
  {
   "cell_type": "markdown",
   "id": "da6b41b2",
   "metadata": {},
   "source": [
    "### Declare global variables"
   ]
  },
  {
   "cell_type": "code",
   "execution_count": 2,
   "id": "055ad350",
   "metadata": {},
   "outputs": [],
   "source": [
    "global k, metric\n",
    "k = 3\n",
    "metric = 'cosine' # can be changed to 'correlation' for Pearson correlation similarities"
   ]
  },
  {
   "cell_type": "markdown",
   "id": "dec6da0b",
   "metadata": {},
   "source": [
    "### Load data"
   ]
  },
  {
   "cell_type": "code",
   "execution_count": 3,
   "id": "e4de5337",
   "metadata": {},
   "outputs": [
    {
     "data": {
      "text/html": [
       "<div>\n",
       "<style scoped>\n",
       "    .dataframe tbody tr th:only-of-type {\n",
       "        vertical-align: middle;\n",
       "    }\n",
       "\n",
       "    .dataframe tbody tr th {\n",
       "        vertical-align: top;\n",
       "    }\n",
       "\n",
       "    .dataframe thead th {\n",
       "        text-align: right;\n",
       "    }\n",
       "</style>\n",
       "<table border=\"1\" class=\"dataframe\">\n",
       "  <thead>\n",
       "    <tr style=\"text-align: right;\">\n",
       "      <th></th>\n",
       "      <th>0</th>\n",
       "      <th>1</th>\n",
       "      <th>2</th>\n",
       "      <th>3</th>\n",
       "      <th>4</th>\n",
       "      <th>5</th>\n",
       "    </tr>\n",
       "  </thead>\n",
       "  <tbody>\n",
       "    <tr>\n",
       "      <th>0</th>\n",
       "      <td>3</td>\n",
       "      <td>7</td>\n",
       "      <td>4</td>\n",
       "      <td>9</td>\n",
       "      <td>9</td>\n",
       "      <td>7</td>\n",
       "    </tr>\n",
       "    <tr>\n",
       "      <th>1</th>\n",
       "      <td>7</td>\n",
       "      <td>0</td>\n",
       "      <td>5</td>\n",
       "      <td>3</td>\n",
       "      <td>8</td>\n",
       "      <td>8</td>\n",
       "    </tr>\n",
       "    <tr>\n",
       "      <th>2</th>\n",
       "      <td>7</td>\n",
       "      <td>5</td>\n",
       "      <td>5</td>\n",
       "      <td>0</td>\n",
       "      <td>8</td>\n",
       "      <td>4</td>\n",
       "    </tr>\n",
       "    <tr>\n",
       "      <th>3</th>\n",
       "      <td>5</td>\n",
       "      <td>6</td>\n",
       "      <td>8</td>\n",
       "      <td>5</td>\n",
       "      <td>9</td>\n",
       "      <td>8</td>\n",
       "    </tr>\n",
       "    <tr>\n",
       "      <th>4</th>\n",
       "      <td>5</td>\n",
       "      <td>8</td>\n",
       "      <td>8</td>\n",
       "      <td>8</td>\n",
       "      <td>10</td>\n",
       "      <td>9</td>\n",
       "    </tr>\n",
       "    <tr>\n",
       "      <th>5</th>\n",
       "      <td>7</td>\n",
       "      <td>7</td>\n",
       "      <td>0</td>\n",
       "      <td>4</td>\n",
       "      <td>7</td>\n",
       "      <td>8</td>\n",
       "    </tr>\n",
       "  </tbody>\n",
       "</table>\n",
       "</div>"
      ],
      "text/plain": [
       "   0  1  2  3   4  5\n",
       "0  3  7  4  9   9  7\n",
       "1  7  0  5  3   8  8\n",
       "2  7  5  5  0   8  4\n",
       "3  5  6  8  5   9  8\n",
       "4  5  8  8  8  10  9\n",
       "5  7  7  0  4   7  8"
      ]
     },
     "execution_count": 3,
     "metadata": {},
     "output_type": "execute_result"
    }
   ],
   "source": [
    "# Create data\n",
    "#  Rows = users\n",
    "#  Columns = items\n",
    "#  user-item ratings matrix where ratings are integers from 1-10\n",
    "data = np.asarray([[3,7,4,9,9,7], \n",
    "                   [7,0,5,3,8,8],\n",
    "                   [7,5,5,0,8,4],\n",
    "                   [5,6,8,5,9,8],\n",
    "                   [5,8,8,8,10,9],\n",
    "                   [7,7,0,4,7,8]])\n",
    "\n",
    "df = pd.DataFrame(data)\n",
    "df"
   ]
  },
  {
   "cell_type": "markdown",
   "id": "897c0e6b",
   "metadata": {},
   "source": [
    "### Generate & Review Similarity Matrices\n",
    "#### Note: The next 2 cells are presented for teaching purposes only."
   ]
  },
  {
   "cell_type": "code",
   "execution_count": 4,
   "id": "ffd8082f",
   "metadata": {
    "scrolled": true
   },
   "outputs": [
    {
     "data": {
      "text/html": [
       "<div>\n",
       "<style scoped>\n",
       "    .dataframe tbody tr th:only-of-type {\n",
       "        vertical-align: middle;\n",
       "    }\n",
       "\n",
       "    .dataframe tbody tr th {\n",
       "        vertical-align: top;\n",
       "    }\n",
       "\n",
       "    .dataframe thead th {\n",
       "        text-align: right;\n",
       "    }\n",
       "</style>\n",
       "<table border=\"1\" class=\"dataframe\">\n",
       "  <thead>\n",
       "    <tr style=\"text-align: right;\">\n",
       "      <th></th>\n",
       "      <th>0</th>\n",
       "      <th>1</th>\n",
       "      <th>2</th>\n",
       "      <th>3</th>\n",
       "      <th>4</th>\n",
       "      <th>5</th>\n",
       "    </tr>\n",
       "  </thead>\n",
       "  <tbody>\n",
       "    <tr>\n",
       "      <th>0</th>\n",
       "      <td>1.000000</td>\n",
       "      <td>0.799268</td>\n",
       "      <td>0.779227</td>\n",
       "      <td>0.934622</td>\n",
       "      <td>0.973890</td>\n",
       "      <td>0.884600</td>\n",
       "    </tr>\n",
       "    <tr>\n",
       "      <th>1</th>\n",
       "      <td>0.799268</td>\n",
       "      <td>1.000000</td>\n",
       "      <td>0.874744</td>\n",
       "      <td>0.905850</td>\n",
       "      <td>0.866146</td>\n",
       "      <td>0.827036</td>\n",
       "    </tr>\n",
       "    <tr>\n",
       "      <th>2</th>\n",
       "      <td>0.779227</td>\n",
       "      <td>0.874744</td>\n",
       "      <td>1.000000</td>\n",
       "      <td>0.909513</td>\n",
       "      <td>0.865454</td>\n",
       "      <td>0.853275</td>\n",
       "    </tr>\n",
       "    <tr>\n",
       "      <th>3</th>\n",
       "      <td>0.934622</td>\n",
       "      <td>0.905850</td>\n",
       "      <td>0.909513</td>\n",
       "      <td>1.000000</td>\n",
       "      <td>0.989344</td>\n",
       "      <td>0.865614</td>\n",
       "    </tr>\n",
       "    <tr>\n",
       "      <th>4</th>\n",
       "      <td>0.973890</td>\n",
       "      <td>0.866146</td>\n",
       "      <td>0.865454</td>\n",
       "      <td>0.989344</td>\n",
       "      <td>1.000000</td>\n",
       "      <td>0.881640</td>\n",
       "    </tr>\n",
       "    <tr>\n",
       "      <th>5</th>\n",
       "      <td>0.884600</td>\n",
       "      <td>0.827036</td>\n",
       "      <td>0.853275</td>\n",
       "      <td>0.865614</td>\n",
       "      <td>0.881640</td>\n",
       "      <td>1.000000</td>\n",
       "    </tr>\n",
       "  </tbody>\n",
       "</table>\n",
       "</div>"
      ],
      "text/plain": [
       "          0         1         2         3         4         5\n",
       "0  1.000000  0.799268  0.779227  0.934622  0.973890  0.884600\n",
       "1  0.799268  1.000000  0.874744  0.905850  0.866146  0.827036\n",
       "2  0.779227  0.874744  1.000000  0.909513  0.865454  0.853275\n",
       "3  0.934622  0.905850  0.909513  1.000000  0.989344  0.865614\n",
       "4  0.973890  0.866146  0.865454  0.989344  1.000000  0.881640\n",
       "5  0.884600  0.827036  0.853275  0.865614  0.881640  1.000000"
      ]
     },
     "execution_count": 4,
     "metadata": {},
     "output_type": "execute_result"
    }
   ],
   "source": [
    "# Generate cosine similarity matrix from user-item ratings matrix \n",
    "#  pairwise_distances returns distances between ratings\n",
    "#   similarities are obtained by subtracting distances from 1\n",
    "cosine_sim = 1 - pairwise_distances(df, metric=\"cosine\")\n",
    "pd.DataFrame(cosine_sim)"
   ]
  },
  {
   "cell_type": "code",
   "execution_count": 5,
   "id": "a511baf0",
   "metadata": {
    "scrolled": true
   },
   "outputs": [
    {
     "data": {
      "text/html": [
       "<div>\n",
       "<style scoped>\n",
       "    .dataframe tbody tr th:only-of-type {\n",
       "        vertical-align: middle;\n",
       "    }\n",
       "\n",
       "    .dataframe tbody tr th {\n",
       "        vertical-align: top;\n",
       "    }\n",
       "\n",
       "    .dataframe thead th {\n",
       "        text-align: right;\n",
       "    }\n",
       "</style>\n",
       "<table border=\"1\" class=\"dataframe\">\n",
       "  <thead>\n",
       "    <tr style=\"text-align: right;\">\n",
       "      <th></th>\n",
       "      <th>0</th>\n",
       "      <th>1</th>\n",
       "      <th>2</th>\n",
       "      <th>3</th>\n",
       "      <th>4</th>\n",
       "      <th>5</th>\n",
       "    </tr>\n",
       "  </thead>\n",
       "  <tbody>\n",
       "    <tr>\n",
       "      <th>0</th>\n",
       "      <td>1.000000</td>\n",
       "      <td>-0.137446</td>\n",
       "      <td>-0.357398</td>\n",
       "      <td>0.208179</td>\n",
       "      <td>0.761905</td>\n",
       "      <td>0.277350</td>\n",
       "    </tr>\n",
       "    <tr>\n",
       "      <th>1</th>\n",
       "      <td>-0.137446</td>\n",
       "      <td>1.000000</td>\n",
       "      <td>0.453897</td>\n",
       "      <td>0.515910</td>\n",
       "      <td>0.112456</td>\n",
       "      <td>0.218328</td>\n",
       "    </tr>\n",
       "    <tr>\n",
       "      <th>2</th>\n",
       "      <td>-0.357398</td>\n",
       "      <td>0.453897</td>\n",
       "      <td>1.000000</td>\n",
       "      <td>0.451378</td>\n",
       "      <td>-0.042888</td>\n",
       "      <td>0.297373</td>\n",
       "    </tr>\n",
       "    <tr>\n",
       "      <th>3</th>\n",
       "      <td>0.208179</td>\n",
       "      <td>0.515910</td>\n",
       "      <td>0.451378</td>\n",
       "      <td>1.000000</td>\n",
       "      <td>0.763325</td>\n",
       "      <td>-0.057739</td>\n",
       "    </tr>\n",
       "    <tr>\n",
       "      <th>4</th>\n",
       "      <td>0.761905</td>\n",
       "      <td>0.112456</td>\n",
       "      <td>-0.042888</td>\n",
       "      <td>0.763325</td>\n",
       "      <td>1.000000</td>\n",
       "      <td>0.039621</td>\n",
       "    </tr>\n",
       "    <tr>\n",
       "      <th>5</th>\n",
       "      <td>0.277350</td>\n",
       "      <td>0.218328</td>\n",
       "      <td>0.297373</td>\n",
       "      <td>-0.057739</td>\n",
       "      <td>0.039621</td>\n",
       "      <td>1.000000</td>\n",
       "    </tr>\n",
       "  </tbody>\n",
       "</table>\n",
       "</div>"
      ],
      "text/plain": [
       "          0         1         2         3         4         5\n",
       "0  1.000000 -0.137446 -0.357398  0.208179  0.761905  0.277350\n",
       "1 -0.137446  1.000000  0.453897  0.515910  0.112456  0.218328\n",
       "2 -0.357398  0.453897  1.000000  0.451378 -0.042888  0.297373\n",
       "3  0.208179  0.515910  0.451378  1.000000  0.763325 -0.057739\n",
       "4  0.761905  0.112456 -0.042888  0.763325  1.000000  0.039621\n",
       "5  0.277350  0.218328  0.297373 -0.057739  0.039621  1.000000"
      ]
     },
     "execution_count": 5,
     "metadata": {},
     "output_type": "execute_result"
    }
   ],
   "source": [
    "# Generate Pearson correlation similarity matrix from user-item ratings matrix\n",
    "#  pairwise_distances returns distances between ratings\n",
    "#   similarities are obtained by subtracting distances from 1\n",
    "pearson_sim = 1 - pairwise_distances(df, metric=\"correlation\")\n",
    "pd.DataFrame(pearson_sim)"
   ]
  },
  {
   "cell_type": "markdown",
   "id": "00a2d795",
   "metadata": {},
   "source": [
    "### User-based Recommendation System"
   ]
  },
  {
   "cell_type": "code",
   "execution_count": 6,
   "id": "558d351c",
   "metadata": {},
   "outputs": [],
   "source": [
    "# Create function to find k similar users given the user_id and user-item ratings matrix\n",
    "#  Note that the similarities are same as obtained via using pairwise_distances\n",
    "def findksimilarusers(user_id, ratings, metric=metric, k=k, verbose=False):\n",
    "    similarities = []\n",
    "    indices = []\n",
    "    model_knn = NearestNeighbors(metric=metric, algorithm='brute')   # The brute force algorithm is based on\n",
    "                                                                     #  pairwise_distances\n",
    "    model_knn.fit(ratings)\n",
    "\n",
    "    distances, indices = model_knn.kneighbors(ratings.iloc[user_id-1, :].values.reshape(1, -1), n_neighbors = k+1)\n",
    "                                   # Returns indices of and distances to the neighbors of each point\n",
    "    similarities = 1 - distances.flatten()     # Flatten a dataframe to a list\n",
    "    if verbose:\n",
    "        print('{0} most similar users for User {1} using {2} metric:'.format(k, user_id, metric))\n",
    "    for i in range(0, len(indices.flatten())):\n",
    "        if indices.flatten()[i]+1 == user_id:\n",
    "            continue;\n",
    "        elif verbose:\n",
    "            print('   {0}: User {1} with similarity of {2}'. \\\n",
    "                  format(i, indices.flatten()[i]+1, similarities.flatten()[i]))\n",
    "            \n",
    "    return similarities,indices"
   ]
  },
  {
   "cell_type": "code",
   "execution_count": 7,
   "id": "e4b0d5f6",
   "metadata": {},
   "outputs": [
    {
     "name": "stdout",
     "output_type": "stream",
     "text": [
      "3 most similar users for User 1 using cosine metric:\n",
      "   1: User 5 with similarity of 0.9738899354018394\n",
      "   2: User 4 with similarity of 0.934621684178377\n",
      "   3: User 6 with similarity of 0.8846004572297814\n"
     ]
    }
   ],
   "source": [
    "similarities,indices = findksimilarusers(1, df, metric='cosine', verbose=True)"
   ]
  },
  {
   "cell_type": "code",
   "execution_count": 8,
   "id": "101dc535",
   "metadata": {},
   "outputs": [
    {
     "data": {
      "text/plain": [
       "array([1.        , 0.97388994, 0.93462168, 0.88460046])"
      ]
     },
     "execution_count": 8,
     "metadata": {},
     "output_type": "execute_result"
    }
   ],
   "source": [
    "similarities"
   ]
  },
  {
   "cell_type": "code",
   "execution_count": 9,
   "id": "d76f46ff",
   "metadata": {},
   "outputs": [
    {
     "data": {
      "text/plain": [
       "array([[0, 4, 3, 5]])"
      ]
     },
     "execution_count": 9,
     "metadata": {},
     "output_type": "execute_result"
    }
   ],
   "source": [
    "indices"
   ]
  },
  {
   "cell_type": "code",
   "execution_count": 10,
   "id": "058549b1",
   "metadata": {},
   "outputs": [
    {
     "name": "stdout",
     "output_type": "stream",
     "text": [
      "3 most similar users for User 1 using correlation metric:\n",
      "   1: User 5 with similarity of 0.7619047619047619\n",
      "   2: User 6 with similarity of 0.2773500981126146\n",
      "   3: User 4 with similarity of 0.20817945092665124\n"
     ]
    }
   ],
   "source": [
    "similarities,indices = findksimilarusers(1, df, metric='correlation', verbose=True)"
   ]
  },
  {
   "cell_type": "code",
   "execution_count": 11,
   "id": "2025b14c",
   "metadata": {},
   "outputs": [
    {
     "data": {
      "text/plain": [
       "array([1.        , 0.76190476, 0.2773501 , 0.20817945])"
      ]
     },
     "execution_count": 11,
     "metadata": {},
     "output_type": "execute_result"
    }
   ],
   "source": [
    "similarities"
   ]
  },
  {
   "cell_type": "code",
   "execution_count": 12,
   "id": "7282b539",
   "metadata": {},
   "outputs": [
    {
     "data": {
      "text/plain": [
       "array([[0, 4, 5, 3]])"
      ]
     },
     "execution_count": 12,
     "metadata": {},
     "output_type": "execute_result"
    }
   ],
   "source": [
    "indices"
   ]
  },
  {
   "cell_type": "code",
   "execution_count": 13,
   "id": "deeea930",
   "metadata": {},
   "outputs": [],
   "source": [
    "# Create function to predict rating for specified user-item combination based on user-based approach\n",
    "def predict_userbased(user_id, item_id, ratings, metric=metric, k=k):\n",
    "    prediction = 0\n",
    "    similarities, indices = findksimilarusers(user_id, ratings, metric, k) # Similar users based on similarity metric\n",
    "    mean_rating = ratings.loc[user_id-1,:].mean() # Adjust for zero based indexing\n",
    "    sum_wt = np.sum(similarities) - 1\n",
    "    wtd_sum = 0 \n",
    "    product = 1\n",
    "    \n",
    "    for i in range(0, len(indices.flatten())):\n",
    "        if indices.flatten()[i]+1 == user_id:\n",
    "            continue;\n",
    "        else: \n",
    "            ratings_diff = ratings.iloc[indices.flatten()[i],item_id-1]-np.mean(ratings.iloc[indices.flatten()[i],:])\n",
    "            product = ratings_diff * (similarities[i])\n",
    "            wtd_sum = wtd_sum + product\n",
    "    prediction = int(round(mean_rating + (wtd_sum/sum_wt)))    \n",
    "    print('Predicted rating for user {0} for item {1} = {2}'.format(user_id, item_id, prediction))\n",
    "\n",
    "    return prediction"
   ]
  },
  {
   "cell_type": "code",
   "execution_count": 14,
   "id": "9ebdc06a",
   "metadata": {},
   "outputs": [
    {
     "name": "stdout",
     "output_type": "stream",
     "text": [
      "Predicted rating for user 3 for item 4 = 3\n"
     ]
    },
    {
     "data": {
      "text/plain": [
       "3"
      ]
     },
     "execution_count": 14,
     "metadata": {},
     "output_type": "execute_result"
    }
   ],
   "source": [
    "predict_userbased(3, 4, df)"
   ]
  },
  {
   "cell_type": "code",
   "execution_count": 15,
   "id": "1622ce11",
   "metadata": {},
   "outputs": [
    {
     "name": "stdout",
     "output_type": "stream",
     "text": [
      "Predicted rating for user 5 for item 4 = 8\n"
     ]
    },
    {
     "data": {
      "text/plain": [
       "8"
      ]
     },
     "execution_count": 15,
     "metadata": {},
     "output_type": "execute_result"
    }
   ],
   "source": [
    "predict_userbased(5, 4, df, metric='correlation')"
   ]
  },
  {
   "cell_type": "markdown",
   "id": "7cc85303",
   "metadata": {},
   "source": [
    "### Item-based Recommendation System"
   ]
  },
  {
   "cell_type": "code",
   "execution_count": 16,
   "id": "7a468e3b",
   "metadata": {},
   "outputs": [],
   "source": [
    "# Create function to find k similar items given the item_id and user-item ratings matrix\n",
    "# Note that the similarities are same as obtained via using pairwise_distances\n",
    "def findksimilaritems(item_id, ratings, metric=metric, k=k, verbose=False):\n",
    "    similarities = []\n",
    "    indices = []\n",
    "    ratings = ratings.T    # Transpose matrix\n",
    "    model_knn = NearestNeighbors(metric=metric, algorithm='brute')   # The brute force algorithm is based on\n",
    "                                                                     #  pairwise_distances\n",
    "    model_knn.fit(ratings)\n",
    "\n",
    "    distances, indices = model_knn.kneighbors(ratings.iloc[item_id-1, :].values.reshape(1, -1), n_neighbors = k+1)\n",
    "                                   # Returns indices of and distances to the neighbors of each point\n",
    "    similarities = 1 - distances.flatten()\n",
    "    if verbose:\n",
    "        print('{0} most similar items for item {1} using {2} metric:'.format(k, item_id, metric))\n",
    "    for i in range(0, len(indices.flatten())):\n",
    "        if indices.flatten()[i]+1 == item_id:\n",
    "            continue;\n",
    "        elif verbose:\n",
    "            print('   {0}: Item {1} with similarity of {2}'. \\\n",
    "                  format(i,indices.flatten()[i]+1, similarities.flatten()[i]))\n",
    "\n",
    "    return similarities,indices"
   ]
  },
  {
   "cell_type": "code",
   "execution_count": 17,
   "id": "c2e030cc",
   "metadata": {},
   "outputs": [
    {
     "name": "stdout",
     "output_type": "stream",
     "text": [
      "3 most similar items for item 1 using cosine metric:\n",
      "   1: Item 5 with similarity of 0.9410670449755878\n",
      "   2: Item 6 with similarity of 0.932273086263139\n",
      "   3: Item 2 with similarity of 0.8164921374451916\n"
     ]
    }
   ],
   "source": [
    "similarities,indices=findksimilaritems(1, df, metric='cosine', verbose=True)"
   ]
  },
  {
   "cell_type": "code",
   "execution_count": 18,
   "id": "06aec0c1",
   "metadata": {},
   "outputs": [
    {
     "data": {
      "text/plain": [
       "array([1.        , 0.94106704, 0.93227309, 0.81649214])"
      ]
     },
     "execution_count": 18,
     "metadata": {},
     "output_type": "execute_result"
    }
   ],
   "source": [
    "similarities"
   ]
  },
  {
   "cell_type": "code",
   "execution_count": 19,
   "id": "cad8c38b",
   "metadata": {},
   "outputs": [
    {
     "data": {
      "text/plain": [
       "array([[0, 4, 5, 1]])"
      ]
     },
     "execution_count": 19,
     "metadata": {},
     "output_type": "execute_result"
    }
   ],
   "source": [
    "indices"
   ]
  },
  {
   "cell_type": "code",
   "execution_count": 20,
   "id": "6909495b",
   "metadata": {},
   "outputs": [
    {
     "name": "stdout",
     "output_type": "stream",
     "text": [
      "3 most similar items for item 1 using correlation metric:\n",
      "   1: Item 6 with similarity of -0.2331262020600784\n",
      "   2: Item 3 with similarity of -0.33028912953790823\n",
      "   3: Item 2 with similarity of -0.5101381811386223\n"
     ]
    }
   ],
   "source": [
    "similarities,indices=findksimilaritems(1, df, metric='correlation', verbose=True)"
   ]
  },
  {
   "cell_type": "code",
   "execution_count": 21,
   "id": "9566c3e8",
   "metadata": {},
   "outputs": [
    {
     "data": {
      "text/plain": [
       "array([ 1.        , -0.2331262 , -0.33028913, -0.51013818])"
      ]
     },
     "execution_count": 21,
     "metadata": {},
     "output_type": "execute_result"
    }
   ],
   "source": [
    "similarities"
   ]
  },
  {
   "cell_type": "code",
   "execution_count": 22,
   "id": "c67f1c52",
   "metadata": {},
   "outputs": [
    {
     "data": {
      "text/plain": [
       "array([[0, 5, 2, 1]])"
      ]
     },
     "execution_count": 22,
     "metadata": {},
     "output_type": "execute_result"
    }
   ],
   "source": [
    "indices"
   ]
  },
  {
   "cell_type": "code",
   "execution_count": 23,
   "id": "38914ffe",
   "metadata": {},
   "outputs": [],
   "source": [
    "# Create function to predict rating for specified user-item combination based on item-based approach\n",
    "def predict_itembased(user_id, item_id, ratings, metric=metric, k=k):\n",
    "    prediction = 0\n",
    "    similarities, indices = findksimilaritems(item_id, ratings, metric) # Similar users based on similarity metric\n",
    "    sum_wt = np.sum(similarities) - 1\n",
    "    wtd_sum = 0\n",
    "    product = 1\n",
    "    \n",
    "    for i in range(0, len(indices.flatten())):\n",
    "        if indices.flatten()[i]+1 == item_id:\n",
    "            continue;\n",
    "        else:\n",
    "            product = ratings.iloc[user_id-1,indices.flatten()[i]] * (similarities[i])\n",
    "            wtd_sum = wtd_sum + product                              \n",
    "    prediction = int(round(wtd_sum/sum_wt))\n",
    "    print('Predicted rating for user {0} for item {1} = {2}'.format(user_id, item_id, prediction))\n",
    "    \n",
    "    return prediction"
   ]
  },
  {
   "cell_type": "code",
   "execution_count": 24,
   "id": "da836d08",
   "metadata": {},
   "outputs": [
    {
     "name": "stdout",
     "output_type": "stream",
     "text": [
      "Predicted rating for user 1 for item 3 = 6\n"
     ]
    }
   ],
   "source": [
    "prediction = predict_itembased(1, 3, df)"
   ]
  },
  {
   "cell_type": "code",
   "execution_count": 25,
   "id": "ddb772ab",
   "metadata": {},
   "outputs": [
    {
     "name": "stdout",
     "output_type": "stream",
     "text": [
      "Predicted rating for user 3 for item 3 = 6\n"
     ]
    }
   ],
   "source": [
    "prediction = predict_itembased(3, 3, df, metric='correlation')"
   ]
  }
 ],
 "metadata": {
  "kernelspec": {
   "display_name": "Python 3",
   "language": "python",
   "name": "python3"
  },
  "language_info": {
   "codemirror_mode": {
    "name": "ipython",
    "version": 3
   },
   "file_extension": ".py",
   "mimetype": "text/x-python",
   "name": "python",
   "nbconvert_exporter": "python",
   "pygments_lexer": "ipython3",
   "version": "3.8.8"
  }
 },
 "nbformat": 4,
 "nbformat_minor": 5
}
